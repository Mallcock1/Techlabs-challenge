{
 "cells": [
  {
   "cell_type": "code",
   "execution_count": 21,
   "metadata": {
    "collapsed": true
   },
   "outputs": [],
   "source": [
    "import pandas as pd\n",
    "import numpy as np"
   ]
  },
  {
   "cell_type": "code",
   "execution_count": 22,
   "metadata": {
    "collapsed": true
   },
   "outputs": [],
   "source": [
    "df = pd.read_csv(\"responses.csv\")"
   ]
  },
  {
   "cell_type": "code",
   "execution_count": 23,
   "metadata": {},
   "outputs": [
    {
     "data": {
      "text/plain": [
       "Index(['Music', 'Slow songs or fast songs', 'Dance', 'Folk', 'Country',\n",
       "       'Classical music', 'Musical', 'Pop', 'Rock', 'Metal or Hardrock',\n",
       "       ...\n",
       "       'Age', 'Height', 'Weight', 'Number of siblings', 'Gender',\n",
       "       'Left - right handed', 'Education', 'Only child', 'Village - town',\n",
       "       'House - block of flats'],\n",
       "      dtype='object', length=150)"
      ]
     },
     "execution_count": 23,
     "metadata": {},
     "output_type": "execute_result"
    }
   ],
   "source": [
    "df.columns"
   ]
  },
  {
   "cell_type": "code",
   "execution_count": 24,
   "metadata": {},
   "outputs": [
    {
     "data": {
      "text/plain": [
       "(1010, 150)"
      ]
     },
     "execution_count": 24,
     "metadata": {},
     "output_type": "execute_result"
    }
   ],
   "source": [
    "df.shape"
   ]
  },
  {
   "cell_type": "code",
   "execution_count": 71,
   "metadata": {},
   "outputs": [
    {
     "name": "stdout",
     "output_type": "stream",
     "text": [
      "411 593 6\n"
     ]
    }
   ],
   "source": [
    "n_male = (df['Gender'] == 'male').sum()\n",
    "n_female = (df['Gender'] == 'female').sum()\n",
    "n_unknown = df['Gender'].isnull().sum()\n",
    "print(n_male, n_female, n_unknown)"
   ]
  },
  {
   "cell_type": "code",
   "execution_count": 163,
   "metadata": {},
   "outputs": [],
   "source": [
    "# Import name lists\n",
    "df_female_names = pd.read_csv('female_names.csv')[:n_female]\n",
    "df_male_names = pd.read_csv('male_names.csv')[:n_male + n_unknown]\n",
    "\n",
    "# replace non-ascii characters\n",
    "df_male_names['Name'] = df_male_names['Name'].apply(lambda x: x.replace('\\xa0', ' '))\n",
    "df_female_names['Name'] = df_female_names['Name'].apply(lambda x: x.replace('\\xa0', ' '))"
   ]
  },
  {
   "cell_type": "code",
   "execution_count": 164,
   "metadata": {},
   "outputs": [
    {
     "data": {
      "text/plain": [
       "(417, 1)"
      ]
     },
     "execution_count": 164,
     "metadata": {},
     "output_type": "execute_result"
    }
   ],
   "source": [
    "df_male_names.shape"
   ]
  },
  {
   "cell_type": "code",
   "execution_count": 165,
   "metadata": {
    "collapsed": true
   },
   "outputs": [],
   "source": [
    "# Add new column for name\n",
    "df['Name'] = ''"
   ]
  },
  {
   "cell_type": "code",
   "execution_count": 166,
   "metadata": {},
   "outputs": [],
   "source": [
    "df_male_names = df_male_names.set_index(df.index[(df['Gender'] == 'male') | df['Gender'].isnull()])\n",
    "df_female_names = df_female_names.set_index(df.index[(df['Gender'] == 'female')])"
   ]
  },
  {
   "cell_type": "code",
   "execution_count": 167,
   "metadata": {},
   "outputs": [],
   "source": [
    "df['Name'] = df_male_names\n",
    "df.loc[df['Gender'] == 'female', 'Name'] = df_female_names"
   ]
  },
  {
   "cell_type": "code",
   "execution_count": 61,
   "metadata": {},
   "outputs": [
    {
     "data": {
      "text/plain": [
       "674"
      ]
     },
     "execution_count": 61,
     "metadata": {},
     "output_type": "execute_result"
    }
   ],
   "source": [
    "# How many people would we have if we dropped all with NaNs?\n",
    "df.dropna().shape[0]"
   ]
  }
 ],
 "metadata": {
  "kernelspec": {
   "display_name": "Python 3",
   "language": "python",
   "name": "python3"
  },
  "language_info": {
   "codemirror_mode": {
    "name": "ipython",
    "version": 3
   },
   "file_extension": ".py",
   "mimetype": "text/x-python",
   "name": "python",
   "nbconvert_exporter": "python",
   "pygments_lexer": "ipython3",
   "version": "3.6.3"
  }
 },
 "nbformat": 4,
 "nbformat_minor": 2
}
