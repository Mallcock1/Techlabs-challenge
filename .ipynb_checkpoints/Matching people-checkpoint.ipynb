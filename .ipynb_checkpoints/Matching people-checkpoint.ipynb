{
 "cells": [
  {
   "cell_type": "markdown",
   "metadata": {},
   "source": [
    "# Matching people\n",
    "Contents:\n",
    "- User recommendation - recommender system for matching users with 10 others based on their interest registered through the questionaire registration form. (almost done - needs updating and a check)\n",
    "- Data visualisation - view for user to aid understanding of their match percentage and a view for the developers to enable monitoring. (to do)"
   ]
  },
  {
   "cell_type": "markdown",
   "metadata": {},
   "source": [
    "# User recommendation\n",
    "In this section, we use collaborative filtering to recommend users to other users based on the similarity of their interests."
   ]
  },
  {
   "cell_type": "code",
   "execution_count": 21,
   "metadata": {
    "collapsed": true
   },
   "outputs": [],
   "source": [
    "# import necessary packages\n",
    "import pandas as pd\n",
    "import numpy as np"
   ]
  },
  {
   "cell_type": "code",
   "execution_count": 22,
   "metadata": {
    "collapsed": true
   },
   "outputs": [],
   "source": [
    "# Read the  data and store as a Pandas dateframe\n",
    "df = pd.read_csv(\"TA_PreData.csv\")"
   ]
  },
  {
   "cell_type": "code",
   "execution_count": 23,
   "metadata": {
    "scrolled": true
   },
   "outputs": [
    {
     "data": {
      "text/html": [
       "<div>\n",
       "<style>\n",
       "    .dataframe thead tr:only-child th {\n",
       "        text-align: right;\n",
       "    }\n",
       "\n",
       "    .dataframe thead th {\n",
       "        text-align: left;\n",
       "    }\n",
       "\n",
       "    .dataframe tbody tr th {\n",
       "        vertical-align: top;\n",
       "    }\n",
       "</style>\n",
       "<table border=\"1\" class=\"dataframe\">\n",
       "  <thead>\n",
       "    <tr style=\"text-align: right;\">\n",
       "      <th></th>\n",
       "      <th>Dancing</th>\n",
       "      <th>Singing</th>\n",
       "      <th>Writing</th>\n",
       "      <th>Meditation</th>\n",
       "      <th>Playing games</th>\n",
       "      <th>Active sports</th>\n",
       "      <th>Being creative</th>\n",
       "      <th>Acting</th>\n",
       "      <th>Cooking</th>\n",
       "      <th>Gardening</th>\n",
       "      <th>...</th>\n",
       "      <th>Daily events</th>\n",
       "      <th>Celebrities</th>\n",
       "      <th>Science and technology</th>\n",
       "      <th>Future goals</th>\n",
       "      <th>Sharing my past</th>\n",
       "      <th>Dreams</th>\n",
       "      <th>Loneliness</th>\n",
       "      <th>Health</th>\n",
       "      <th>Mental wellbeing</th>\n",
       "      <th>Life struggles</th>\n",
       "    </tr>\n",
       "  </thead>\n",
       "  <tbody>\n",
       "    <tr>\n",
       "      <th>count</th>\n",
       "      <td>1007.000000</td>\n",
       "      <td>1009.000000</td>\n",
       "      <td>1004.000000</td>\n",
       "      <td>995.000000</td>\n",
       "      <td>1006.000000</td>\n",
       "      <td>1006.000000</td>\n",
       "      <td>1004.000000</td>\n",
       "      <td>1002.000000</td>\n",
       "      <td>1007.000000</td>\n",
       "      <td>1003.000000</td>\n",
       "      <td>...</td>\n",
       "      <td>1003.000000</td>\n",
       "      <td>1008.000000</td>\n",
       "      <td>1004.000000</td>\n",
       "      <td>1007.000000</td>\n",
       "      <td>1008.000000</td>\n",
       "      <td>1010.000000</td>\n",
       "      <td>1009.000000</td>\n",
       "      <td>1009.000000</td>\n",
       "      <td>1006.000000</td>\n",
       "      <td>1007.000000</td>\n",
       "    </tr>\n",
       "    <tr>\n",
       "      <th>mean</th>\n",
       "      <td>2.461768</td>\n",
       "      <td>2.324083</td>\n",
       "      <td>1.901394</td>\n",
       "      <td>3.387940</td>\n",
       "      <td>4.557654</td>\n",
       "      <td>3.291252</td>\n",
       "      <td>2.589641</td>\n",
       "      <td>3.024950</td>\n",
       "      <td>3.031778</td>\n",
       "      <td>1.907278</td>\n",
       "      <td>...</td>\n",
       "      <td>3.074776</td>\n",
       "      <td>2.362103</td>\n",
       "      <td>3.234064</td>\n",
       "      <td>3.414101</td>\n",
       "      <td>2.952381</td>\n",
       "      <td>3.297030</td>\n",
       "      <td>2.887017</td>\n",
       "      <td>3.250743</td>\n",
       "      <td>3.258449</td>\n",
       "      <td>3.031778</td>\n",
       "    </tr>\n",
       "    <tr>\n",
       "      <th>std</th>\n",
       "      <td>1.450399</td>\n",
       "      <td>1.512850</td>\n",
       "      <td>1.287736</td>\n",
       "      <td>1.405027</td>\n",
       "      <td>0.737183</td>\n",
       "      <td>1.504111</td>\n",
       "      <td>1.322002</td>\n",
       "      <td>1.325375</td>\n",
       "      <td>0.936865</td>\n",
       "      <td>1.175421</td>\n",
       "      <td>...</td>\n",
       "      <td>1.118432</td>\n",
       "      <td>1.270251</td>\n",
       "      <td>1.282599</td>\n",
       "      <td>1.136910</td>\n",
       "      <td>1.278387</td>\n",
       "      <td>0.683148</td>\n",
       "      <td>1.131757</td>\n",
       "      <td>1.075319</td>\n",
       "      <td>1.044675</td>\n",
       "      <td>1.374644</td>\n",
       "    </tr>\n",
       "    <tr>\n",
       "      <th>min</th>\n",
       "      <td>1.000000</td>\n",
       "      <td>1.000000</td>\n",
       "      <td>1.000000</td>\n",
       "      <td>1.000000</td>\n",
       "      <td>2.000000</td>\n",
       "      <td>1.000000</td>\n",
       "      <td>1.000000</td>\n",
       "      <td>1.000000</td>\n",
       "      <td>1.000000</td>\n",
       "      <td>1.000000</td>\n",
       "      <td>...</td>\n",
       "      <td>1.000000</td>\n",
       "      <td>1.000000</td>\n",
       "      <td>1.000000</td>\n",
       "      <td>1.000000</td>\n",
       "      <td>1.000000</td>\n",
       "      <td>1.000000</td>\n",
       "      <td>1.000000</td>\n",
       "      <td>1.000000</td>\n",
       "      <td>1.000000</td>\n",
       "      <td>1.000000</td>\n",
       "    </tr>\n",
       "    <tr>\n",
       "      <th>25%</th>\n",
       "      <td>1.000000</td>\n",
       "      <td>1.000000</td>\n",
       "      <td>1.000000</td>\n",
       "      <td>2.000000</td>\n",
       "      <td>4.000000</td>\n",
       "      <td>2.000000</td>\n",
       "      <td>1.000000</td>\n",
       "      <td>2.000000</td>\n",
       "      <td>3.000000</td>\n",
       "      <td>1.000000</td>\n",
       "      <td>...</td>\n",
       "      <td>2.000000</td>\n",
       "      <td>1.000000</td>\n",
       "      <td>2.000000</td>\n",
       "      <td>3.000000</td>\n",
       "      <td>2.000000</td>\n",
       "      <td>3.000000</td>\n",
       "      <td>2.000000</td>\n",
       "      <td>3.000000</td>\n",
       "      <td>3.000000</td>\n",
       "      <td>2.000000</td>\n",
       "    </tr>\n",
       "    <tr>\n",
       "      <th>50%</th>\n",
       "      <td>2.000000</td>\n",
       "      <td>2.000000</td>\n",
       "      <td>1.000000</td>\n",
       "      <td>3.000000</td>\n",
       "      <td>5.000000</td>\n",
       "      <td>3.000000</td>\n",
       "      <td>2.000000</td>\n",
       "      <td>3.000000</td>\n",
       "      <td>3.000000</td>\n",
       "      <td>1.000000</td>\n",
       "      <td>...</td>\n",
       "      <td>3.000000</td>\n",
       "      <td>2.000000</td>\n",
       "      <td>3.000000</td>\n",
       "      <td>3.000000</td>\n",
       "      <td>3.000000</td>\n",
       "      <td>3.000000</td>\n",
       "      <td>3.000000</td>\n",
       "      <td>3.000000</td>\n",
       "      <td>3.000000</td>\n",
       "      <td>3.000000</td>\n",
       "    </tr>\n",
       "    <tr>\n",
       "      <th>75%</th>\n",
       "      <td>4.000000</td>\n",
       "      <td>4.000000</td>\n",
       "      <td>3.000000</td>\n",
       "      <td>5.000000</td>\n",
       "      <td>5.000000</td>\n",
       "      <td>5.000000</td>\n",
       "      <td>4.000000</td>\n",
       "      <td>4.000000</td>\n",
       "      <td>4.000000</td>\n",
       "      <td>3.000000</td>\n",
       "      <td>...</td>\n",
       "      <td>4.000000</td>\n",
       "      <td>3.000000</td>\n",
       "      <td>4.000000</td>\n",
       "      <td>4.000000</td>\n",
       "      <td>4.000000</td>\n",
       "      <td>4.000000</td>\n",
       "      <td>4.000000</td>\n",
       "      <td>4.000000</td>\n",
       "      <td>4.000000</td>\n",
       "      <td>4.000000</td>\n",
       "    </tr>\n",
       "    <tr>\n",
       "      <th>max</th>\n",
       "      <td>5.000000</td>\n",
       "      <td>5.000000</td>\n",
       "      <td>5.000000</td>\n",
       "      <td>5.000000</td>\n",
       "      <td>5.000000</td>\n",
       "      <td>5.000000</td>\n",
       "      <td>5.000000</td>\n",
       "      <td>5.000000</td>\n",
       "      <td>5.000000</td>\n",
       "      <td>5.000000</td>\n",
       "      <td>...</td>\n",
       "      <td>5.000000</td>\n",
       "      <td>5.000000</td>\n",
       "      <td>5.000000</td>\n",
       "      <td>5.000000</td>\n",
       "      <td>5.000000</td>\n",
       "      <td>5.000000</td>\n",
       "      <td>5.000000</td>\n",
       "      <td>5.000000</td>\n",
       "      <td>5.000000</td>\n",
       "      <td>5.000000</td>\n",
       "    </tr>\n",
       "  </tbody>\n",
       "</table>\n",
       "<p>8 rows × 25 columns</p>\n",
       "</div>"
      ],
      "text/plain": [
       "           Dancing      Singing      Writing  Meditation  Playing games  \\\n",
       "count  1007.000000  1009.000000  1004.000000  995.000000    1006.000000   \n",
       "mean      2.461768     2.324083     1.901394    3.387940       4.557654   \n",
       "std       1.450399     1.512850     1.287736    1.405027       0.737183   \n",
       "min       1.000000     1.000000     1.000000    1.000000       2.000000   \n",
       "25%       1.000000     1.000000     1.000000    2.000000       4.000000   \n",
       "50%       2.000000     2.000000     1.000000    3.000000       5.000000   \n",
       "75%       4.000000     4.000000     3.000000    5.000000       5.000000   \n",
       "max       5.000000     5.000000     5.000000    5.000000       5.000000   \n",
       "\n",
       "       Active sports  Being creative       Acting      Cooking    Gardening  \\\n",
       "count    1006.000000     1004.000000  1002.000000  1007.000000  1003.000000   \n",
       "mean        3.291252        2.589641     3.024950     3.031778     1.907278   \n",
       "std         1.504111        1.322002     1.325375     0.936865     1.175421   \n",
       "min         1.000000        1.000000     1.000000     1.000000     1.000000   \n",
       "25%         2.000000        1.000000     2.000000     3.000000     1.000000   \n",
       "50%         3.000000        2.000000     3.000000     3.000000     1.000000   \n",
       "75%         5.000000        4.000000     4.000000     4.000000     3.000000   \n",
       "max         5.000000        5.000000     5.000000     5.000000     5.000000   \n",
       "\n",
       "            ...        Daily events  Celebrities  Science and technology  \\\n",
       "count       ...         1003.000000  1008.000000             1004.000000   \n",
       "mean        ...            3.074776     2.362103                3.234064   \n",
       "std         ...            1.118432     1.270251                1.282599   \n",
       "min         ...            1.000000     1.000000                1.000000   \n",
       "25%         ...            2.000000     1.000000                2.000000   \n",
       "50%         ...            3.000000     2.000000                3.000000   \n",
       "75%         ...            4.000000     3.000000                4.000000   \n",
       "max         ...            5.000000     5.000000                5.000000   \n",
       "\n",
       "       Future goals  Sharing my past       Dreams   Loneliness       Health  \\\n",
       "count   1007.000000      1008.000000  1010.000000  1009.000000  1009.000000   \n",
       "mean       3.414101         2.952381     3.297030     2.887017     3.250743   \n",
       "std        1.136910         1.278387     0.683148     1.131757     1.075319   \n",
       "min        1.000000         1.000000     1.000000     1.000000     1.000000   \n",
       "25%        3.000000         2.000000     3.000000     2.000000     3.000000   \n",
       "50%        3.000000         3.000000     3.000000     3.000000     3.000000   \n",
       "75%        4.000000         4.000000     4.000000     4.000000     4.000000   \n",
       "max        5.000000         5.000000     5.000000     5.000000     5.000000   \n",
       "\n",
       "       Mental wellbeing  Life struggles  \n",
       "count       1006.000000     1007.000000  \n",
       "mean           3.258449        3.031778  \n",
       "std            1.044675        1.374644  \n",
       "min            1.000000        1.000000  \n",
       "25%            3.000000        2.000000  \n",
       "50%            3.000000        3.000000  \n",
       "75%            4.000000        4.000000  \n",
       "max            5.000000        5.000000  \n",
       "\n",
       "[8 rows x 25 columns]"
      ]
     },
     "execution_count": 23,
     "metadata": {},
     "output_type": "execute_result"
    }
   ],
   "source": [
    "df.describe()"
   ]
  },
  {
   "cell_type": "code",
   "execution_count": 24,
   "metadata": {
    "scrolled": true
   },
   "outputs": [
    {
     "data": {
      "text/html": [
       "<div>\n",
       "<style>\n",
       "    .dataframe thead tr:only-child th {\n",
       "        text-align: right;\n",
       "    }\n",
       "\n",
       "    .dataframe thead th {\n",
       "        text-align: left;\n",
       "    }\n",
       "\n",
       "    .dataframe tbody tr th {\n",
       "        vertical-align: top;\n",
       "    }\n",
       "</style>\n",
       "<table border=\"1\" class=\"dataframe\">\n",
       "  <thead>\n",
       "    <tr style=\"text-align: right;\">\n",
       "      <th></th>\n",
       "      <th>Name</th>\n",
       "      <th>Dancing</th>\n",
       "      <th>Singing</th>\n",
       "      <th>Writing</th>\n",
       "      <th>Meditation</th>\n",
       "      <th>Playing games</th>\n",
       "      <th>Active sports</th>\n",
       "      <th>Being creative</th>\n",
       "      <th>Acting</th>\n",
       "      <th>Cooking</th>\n",
       "      <th>...</th>\n",
       "      <th>Daily events</th>\n",
       "      <th>Celebrities</th>\n",
       "      <th>Science and technology</th>\n",
       "      <th>Future goals</th>\n",
       "      <th>Sharing my past</th>\n",
       "      <th>Dreams</th>\n",
       "      <th>Loneliness</th>\n",
       "      <th>Health</th>\n",
       "      <th>Mental wellbeing</th>\n",
       "      <th>Life struggles</th>\n",
       "    </tr>\n",
       "  </thead>\n",
       "  <tbody>\n",
       "    <tr>\n",
       "      <th>0</th>\n",
       "      <td>Sally Abraham</td>\n",
       "      <td>3.0</td>\n",
       "      <td>3.0</td>\n",
       "      <td>2.0</td>\n",
       "      <td>1.0</td>\n",
       "      <td>5.0</td>\n",
       "      <td>5.0</td>\n",
       "      <td>1.0</td>\n",
       "      <td>2.0</td>\n",
       "      <td>4.0</td>\n",
       "      <td>...</td>\n",
       "      <td>2.0</td>\n",
       "      <td>1.0</td>\n",
       "      <td>4.0</td>\n",
       "      <td>2.0</td>\n",
       "      <td>1.0</td>\n",
       "      <td>4.0</td>\n",
       "      <td>3.0</td>\n",
       "      <td>1.0</td>\n",
       "      <td>3.0</td>\n",
       "      <td>1.0</td>\n",
       "    </tr>\n",
       "    <tr>\n",
       "      <th>1</th>\n",
       "      <td>Rebecca Acheson</td>\n",
       "      <td>1.0</td>\n",
       "      <td>1.0</td>\n",
       "      <td>1.0</td>\n",
       "      <td>1.0</td>\n",
       "      <td>4.0</td>\n",
       "      <td>1.0</td>\n",
       "      <td>2.0</td>\n",
       "      <td>2.0</td>\n",
       "      <td>3.0</td>\n",
       "      <td>...</td>\n",
       "      <td>3.0</td>\n",
       "      <td>2.0</td>\n",
       "      <td>3.0</td>\n",
       "      <td>4.0</td>\n",
       "      <td>4.0</td>\n",
       "      <td>3.0</td>\n",
       "      <td>2.0</td>\n",
       "      <td>4.0</td>\n",
       "      <td>4.0</td>\n",
       "      <td>1.0</td>\n",
       "    </tr>\n",
       "    <tr>\n",
       "      <th>2</th>\n",
       "      <td>Carole Ackland</td>\n",
       "      <td>5.0</td>\n",
       "      <td>5.0</td>\n",
       "      <td>5.0</td>\n",
       "      <td>5.0</td>\n",
       "      <td>5.0</td>\n",
       "      <td>2.0</td>\n",
       "      <td>5.0</td>\n",
       "      <td>5.0</td>\n",
       "      <td>3.0</td>\n",
       "      <td>...</td>\n",
       "      <td>1.0</td>\n",
       "      <td>1.0</td>\n",
       "      <td>2.0</td>\n",
       "      <td>5.0</td>\n",
       "      <td>5.0</td>\n",
       "      <td>1.0</td>\n",
       "      <td>5.0</td>\n",
       "      <td>2.0</td>\n",
       "      <td>4.0</td>\n",
       "      <td>4.0</td>\n",
       "    </tr>\n",
       "    <tr>\n",
       "      <th>3</th>\n",
       "      <td>Hayley Alderton</td>\n",
       "      <td>1.0</td>\n",
       "      <td>1.0</td>\n",
       "      <td>3.0</td>\n",
       "      <td>1.0</td>\n",
       "      <td>2.0</td>\n",
       "      <td>1.0</td>\n",
       "      <td>5.0</td>\n",
       "      <td>1.0</td>\n",
       "      <td>3.0</td>\n",
       "      <td>...</td>\n",
       "      <td>4.0</td>\n",
       "      <td>2.0</td>\n",
       "      <td>3.0</td>\n",
       "      <td>3.0</td>\n",
       "      <td>5.0</td>\n",
       "      <td>3.0</td>\n",
       "      <td>5.0</td>\n",
       "      <td>1.0</td>\n",
       "      <td>5.0</td>\n",
       "      <td>3.0</td>\n",
       "    </tr>\n",
       "    <tr>\n",
       "      <th>4</th>\n",
       "      <td>Nicola Allison</td>\n",
       "      <td>1.0</td>\n",
       "      <td>3.0</td>\n",
       "      <td>1.0</td>\n",
       "      <td>3.0</td>\n",
       "      <td>4.0</td>\n",
       "      <td>1.0</td>\n",
       "      <td>1.0</td>\n",
       "      <td>2.0</td>\n",
       "      <td>4.0</td>\n",
       "      <td>...</td>\n",
       "      <td>3.0</td>\n",
       "      <td>3.0</td>\n",
       "      <td>3.0</td>\n",
       "      <td>5.0</td>\n",
       "      <td>4.0</td>\n",
       "      <td>3.0</td>\n",
       "      <td>3.0</td>\n",
       "      <td>3.0</td>\n",
       "      <td>2.0</td>\n",
       "      <td>2.0</td>\n",
       "    </tr>\n",
       "  </tbody>\n",
       "</table>\n",
       "<p>5 rows × 26 columns</p>\n",
       "</div>"
      ],
      "text/plain": [
       "              Name  Dancing  Singing  Writing  Meditation  Playing games  \\\n",
       "0    Sally Abraham      3.0      3.0      2.0         1.0            5.0   \n",
       "1  Rebecca Acheson      1.0      1.0      1.0         1.0            4.0   \n",
       "2   Carole Ackland      5.0      5.0      5.0         5.0            5.0   \n",
       "3  Hayley Alderton      1.0      1.0      3.0         1.0            2.0   \n",
       "4   Nicola Allison      1.0      3.0      1.0         3.0            4.0   \n",
       "\n",
       "   Active sports  Being creative  Acting  Cooking       ...        \\\n",
       "0            5.0             1.0     2.0      4.0       ...         \n",
       "1            1.0             2.0     2.0      3.0       ...         \n",
       "2            2.0             5.0     5.0      3.0       ...         \n",
       "3            1.0             5.0     1.0      3.0       ...         \n",
       "4            1.0             1.0     2.0      4.0       ...         \n",
       "\n",
       "   Daily events  Celebrities  Science and technology  Future goals  \\\n",
       "0           2.0          1.0                     4.0           2.0   \n",
       "1           3.0          2.0                     3.0           4.0   \n",
       "2           1.0          1.0                     2.0           5.0   \n",
       "3           4.0          2.0                     3.0           3.0   \n",
       "4           3.0          3.0                     3.0           5.0   \n",
       "\n",
       "   Sharing my past  Dreams  Loneliness  Health  Mental wellbeing  \\\n",
       "0              1.0     4.0         3.0     1.0               3.0   \n",
       "1              4.0     3.0         2.0     4.0               4.0   \n",
       "2              5.0     1.0         5.0     2.0               4.0   \n",
       "3              5.0     3.0         5.0     1.0               5.0   \n",
       "4              4.0     3.0         3.0     3.0               2.0   \n",
       "\n",
       "   Life struggles  \n",
       "0             1.0  \n",
       "1             1.0  \n",
       "2             4.0  \n",
       "3             3.0  \n",
       "4             2.0  \n",
       "\n",
       "[5 rows x 26 columns]"
      ]
     },
     "execution_count": 24,
     "metadata": {},
     "output_type": "execute_result"
    }
   ],
   "source": [
    "df.head()"
   ]
  },
  {
   "cell_type": "markdown",
   "metadata": {},
   "source": [
    "Let's create a dataset without the names for ease of data analysis."
   ]
  },
  {
   "cell_type": "code",
   "execution_count": 25,
   "metadata": {
    "collapsed": true
   },
   "outputs": [],
   "source": [
    "df_noname = df.iloc[:,1:]"
   ]
  },
  {
   "cell_type": "markdown",
   "metadata": {},
   "source": [
    "The dataset has a number of NaN entries, where questionnaire participants did not answer a particular question. Let's see what proportion of the entries are NaN."
   ]
  },
  {
   "cell_type": "code",
   "execution_count": 26,
   "metadata": {},
   "outputs": [
    {
     "data": {
      "text/plain": [
       "0.004356435643564357"
      ]
     },
     "execution_count": 26,
     "metadata": {},
     "output_type": "execute_result"
    }
   ],
   "source": [
    "df_noname.isnull().sum().sum()/(df_noname.shape[0]*df_noname.shape[1])"
   ]
  },
  {
   "cell_type": "markdown",
   "metadata": {},
   "source": [
    "The proportion of unanswered questions is small, so we should be able to use all the people for the recommender system by filling in the missing values with the mean of that user's scores. Before we do that, let's centre each row, so that the every user's mean score is 0. "
   ]
  },
  {
   "cell_type": "code",
   "execution_count": 27,
   "metadata": {
    "collapsed": true
   },
   "outputs": [],
   "source": [
    "#Centre each row\n",
    "df_noname = df_noname.sub(df_noname.mean(axis=1), axis=0)"
   ]
  },
  {
   "cell_type": "code",
   "execution_count": 28,
   "metadata": {
    "collapsed": true
   },
   "outputs": [],
   "source": [
    "# fill nans with 0.0 (mean of centred rows)\n",
    "df_noname = df_noname.fillna(0.)"
   ]
  },
  {
   "cell_type": "markdown",
   "metadata": {},
   "source": [
    "Now we can start building a recommender system. We use a k-nearest neighbor algorithm that calculate the \"distance\" between each person based on their scores given to each interest. The people who are \"closest\" to a person A are person A's matches.\n",
    "\n",
    "For this, we need a suitable notion of \"distance\". We'll use the \"cosine distance\" for this as the angle between the people in the high-dimensiona lparameter space is important as well as the Euclidean distance between people.\n",
    "\n",
    "The matches of person A are the people who have the minimum distance to person A."
   ]
  },
  {
   "cell_type": "code",
   "execution_count": 54,
   "metadata": {},
   "outputs": [
    {
     "data": {
      "text/plain": [
       "NearestNeighbors(algorithm='brute', leaf_size=30, metric='cosine',\n",
       "         metric_params=None, n_jobs=-1, n_neighbors=20, p=2, radius=1.0)"
      ]
     },
     "execution_count": 54,
     "metadata": {},
     "output_type": "execute_result"
    }
   ],
   "source": [
    "from sklearn.neighbors import NearestNeighbors\n",
    "\n",
    "# Number of closest neighbors to find\n",
    "n_neighbors = 20\n",
    "\n",
    "# make an object for the NearestNeighbors Class.\n",
    "model_knn = NearestNeighbors(metric='cosine', algorithm='brute', n_neighbors=n_neighbors, n_jobs=-1)\n",
    "\n",
    "# fit the dataset\n",
    "model_knn.fit(df_noname)"
   ]
  },
  {
   "cell_type": "markdown",
   "metadata": {},
   "source": [
    "Now find distances and indices in the dataframe of the nearest neighbors of each peron."
   ]
  },
  {
   "cell_type": "code",
   "execution_count": 55,
   "metadata": {
    "collapsed": true
   },
   "outputs": [],
   "source": [
    "distances, indices = model_knn.kneighbors(df_noname)"
   ]
  },
  {
   "cell_type": "code",
   "execution_count": 56,
   "metadata": {},
   "outputs": [
    {
     "data": {
      "text/plain": [
       "array([[  0.00000000e+00,   2.65873016e-01,   3.10507188e-01, ...,\n",
       "          3.99350836e-01,   3.99879964e-01,   4.09298800e-01],\n",
       "       [  0.00000000e+00,   1.33527789e-01,   1.60524508e-01, ...,\n",
       "          2.80871461e-01,   2.81483009e-01,   2.90490130e-01],\n",
       "       [  0.00000000e+00,   2.62483433e-01,   2.84695362e-01, ...,\n",
       "          4.27636436e-01,   4.30044434e-01,   4.30078421e-01],\n",
       "       ..., \n",
       "       [  2.22044605e-16,   2.33396052e-01,   2.41150806e-01, ...,\n",
       "          3.27122653e-01,   3.28474815e-01,   3.28929768e-01],\n",
       "       [  0.00000000e+00,   2.12935405e-01,   3.09656169e-01, ...,\n",
       "          3.99888579e-01,   4.01152662e-01,   4.02069246e-01],\n",
       "       [  0.00000000e+00,   2.40295552e-01,   2.41288381e-01, ...,\n",
       "          3.03075198e-01,   3.05222129e-01,   3.07910271e-01]])"
      ]
     },
     "execution_count": 56,
     "metadata": {},
     "output_type": "execute_result"
    }
   ],
   "source": [
    "distances"
   ]
  },
  {
   "cell_type": "code",
   "execution_count": 57,
   "metadata": {},
   "outputs": [
    {
     "data": {
      "text/plain": [
       "array([[   0,  430,  348, ...,  580,  670,  830],\n",
       "       [   1,  448,   47, ...,   84,  423,   42],\n",
       "       [   2,  217,  262, ...,  155,  108,  133],\n",
       "       ..., \n",
       "       [1007,  200,  934, ...,  846,  935,  850],\n",
       "       [1008,  407,  592, ...,  444,  272,  657],\n",
       "       [1009,  818,  945, ...,  574,  852,  513]], dtype=int64)"
      ]
     },
     "execution_count": 57,
     "metadata": {},
     "output_type": "execute_result"
    }
   ],
   "source": [
    "indices"
   ]
  },
  {
   "cell_type": "markdown",
   "metadata": {},
   "source": [
    "The shortest distance between any two people in the dataframe can be found by:"
   ]
  },
  {
   "cell_type": "code",
   "execution_count": 58,
   "metadata": {},
   "outputs": [
    {
     "data": {
      "text/plain": [
       "0.010400718013760413"
      ]
     },
     "execution_count": 58,
     "metadata": {},
     "output_type": "execute_result"
    }
   ],
   "source": [
    "distances[:,1].min()"
   ]
  },
  {
   "cell_type": "markdown",
   "metadata": {},
   "source": [
    "Let's find out which two people are closest."
   ]
  },
  {
   "cell_type": "code",
   "execution_count": 59,
   "metadata": {},
   "outputs": [
    {
     "data": {
      "text/plain": [
       "(array([449, 453], dtype=int64), array([1, 1], dtype=int64))"
      ]
     },
     "execution_count": 59,
     "metadata": {},
     "output_type": "execute_result"
    }
   ],
   "source": [
    "np.where(distances == distances[:,1].min())"
   ]
  },
  {
   "cell_type": "markdown",
   "metadata": {},
   "source": [
    "So it's the people with indices 449 and 453 in the dataframe. Their names are:"
   ]
  },
  {
   "cell_type": "code",
   "execution_count": 60,
   "metadata": {},
   "outputs": [
    {
     "data": {
      "text/plain": [
       "['Fiona Henderson', 'Melanie Herring']"
      ]
     },
     "execution_count": 60,
     "metadata": {},
     "output_type": "execute_result"
    }
   ],
   "source": [
    "list(df.iloc[[449,453],:]['Name'])"
   ]
  },
  {
   "cell_type": "markdown",
   "metadata": {},
   "source": [
    "Let's check their interests to confirm that they match well."
   ]
  },
  {
   "cell_type": "code",
   "execution_count": 61,
   "metadata": {},
   "outputs": [
    {
     "data": {
      "text/html": [
       "<div>\n",
       "<style>\n",
       "    .dataframe thead tr:only-child th {\n",
       "        text-align: right;\n",
       "    }\n",
       "\n",
       "    .dataframe thead th {\n",
       "        text-align: left;\n",
       "    }\n",
       "\n",
       "    .dataframe tbody tr th {\n",
       "        vertical-align: top;\n",
       "    }\n",
       "</style>\n",
       "<table border=\"1\" class=\"dataframe\">\n",
       "  <thead>\n",
       "    <tr style=\"text-align: right;\">\n",
       "      <th></th>\n",
       "      <th>Name</th>\n",
       "      <th>Dancing</th>\n",
       "      <th>Singing</th>\n",
       "      <th>Writing</th>\n",
       "      <th>Meditation</th>\n",
       "      <th>Playing games</th>\n",
       "      <th>Active sports</th>\n",
       "      <th>Being creative</th>\n",
       "      <th>Acting</th>\n",
       "      <th>Cooking</th>\n",
       "      <th>...</th>\n",
       "      <th>Daily events</th>\n",
       "      <th>Celebrities</th>\n",
       "      <th>Science and technology</th>\n",
       "      <th>Future goals</th>\n",
       "      <th>Sharing my past</th>\n",
       "      <th>Dreams</th>\n",
       "      <th>Loneliness</th>\n",
       "      <th>Health</th>\n",
       "      <th>Mental wellbeing</th>\n",
       "      <th>Life struggles</th>\n",
       "    </tr>\n",
       "  </thead>\n",
       "  <tbody>\n",
       "    <tr>\n",
       "      <th>449</th>\n",
       "      <td>Fiona Henderson</td>\n",
       "      <td>3.0</td>\n",
       "      <td>1.0</td>\n",
       "      <td>1.0</td>\n",
       "      <td>2.0</td>\n",
       "      <td>5.0</td>\n",
       "      <td>1.0</td>\n",
       "      <td>1.0</td>\n",
       "      <td>5.0</td>\n",
       "      <td>2.0</td>\n",
       "      <td>...</td>\n",
       "      <td>3.0</td>\n",
       "      <td>2.0</td>\n",
       "      <td>3.0</td>\n",
       "      <td>5.0</td>\n",
       "      <td>3.0</td>\n",
       "      <td>3.0</td>\n",
       "      <td>3.0</td>\n",
       "      <td>4.0</td>\n",
       "      <td>4.0</td>\n",
       "      <td>4.0</td>\n",
       "    </tr>\n",
       "    <tr>\n",
       "      <th>453</th>\n",
       "      <td>Melanie Herring</td>\n",
       "      <td>3.0</td>\n",
       "      <td>1.0</td>\n",
       "      <td>1.0</td>\n",
       "      <td>2.0</td>\n",
       "      <td>5.0</td>\n",
       "      <td>1.0</td>\n",
       "      <td>1.0</td>\n",
       "      <td>5.0</td>\n",
       "      <td>2.0</td>\n",
       "      <td>...</td>\n",
       "      <td>3.0</td>\n",
       "      <td>2.0</td>\n",
       "      <td>3.0</td>\n",
       "      <td>5.0</td>\n",
       "      <td>3.0</td>\n",
       "      <td>3.0</td>\n",
       "      <td>3.0</td>\n",
       "      <td>4.0</td>\n",
       "      <td>3.0</td>\n",
       "      <td>4.0</td>\n",
       "    </tr>\n",
       "  </tbody>\n",
       "</table>\n",
       "<p>2 rows × 26 columns</p>\n",
       "</div>"
      ],
      "text/plain": [
       "                Name  Dancing  Singing  Writing  Meditation  Playing games  \\\n",
       "449  Fiona Henderson      3.0      1.0      1.0         2.0            5.0   \n",
       "453  Melanie Herring      3.0      1.0      1.0         2.0            5.0   \n",
       "\n",
       "     Active sports  Being creative  Acting  Cooking       ...        \\\n",
       "449            1.0             1.0     5.0      2.0       ...         \n",
       "453            1.0             1.0     5.0      2.0       ...         \n",
       "\n",
       "     Daily events  Celebrities  Science and technology  Future goals  \\\n",
       "449           3.0          2.0                     3.0           5.0   \n",
       "453           3.0          2.0                     3.0           5.0   \n",
       "\n",
       "     Sharing my past  Dreams  Loneliness  Health  Mental wellbeing  \\\n",
       "449              3.0     3.0         3.0     4.0               4.0   \n",
       "453              3.0     3.0         3.0     4.0               3.0   \n",
       "\n",
       "     Life struggles  \n",
       "449             4.0  \n",
       "453             4.0  \n",
       "\n",
       "[2 rows x 26 columns]"
      ]
     },
     "execution_count": 61,
     "metadata": {},
     "output_type": "execute_result"
    }
   ],
   "source": [
    "df.iloc[[449,453],:]"
   ]
  },
  {
   "cell_type": "code",
   "execution_count": 62,
   "metadata": {},
   "outputs": [
    {
     "data": {
      "text/plain": [
       "Name                      False\n",
       "Dancing                    True\n",
       "Singing                    True\n",
       "Writing                    True\n",
       "Meditation                 True\n",
       "Playing games              True\n",
       "Active sports              True\n",
       "Being creative             True\n",
       "Acting                     True\n",
       "Cooking                    True\n",
       "Gardening                  True\n",
       "Pets                      False\n",
       "Music                      True\n",
       "Movies                     True\n",
       "Reading                    True\n",
       "Foreign languages          True\n",
       "Daily events               True\n",
       "Celebrities                True\n",
       "Science and technology     True\n",
       "Future goals               True\n",
       "Sharing my past            True\n",
       "Dreams                     True\n",
       "Loneliness                 True\n",
       "Health                     True\n",
       "Mental wellbeing          False\n",
       "Life struggles             True\n",
       "dtype: bool"
      ]
     },
     "execution_count": 62,
     "metadata": {},
     "output_type": "execute_result"
    }
   ],
   "source": [
    "df.iloc[449,:] == df.iloc[453,:]"
   ]
  },
  {
   "cell_type": "markdown",
   "metadata": {},
   "source": [
    "So they only gave different answers to 2 out of the 25 interests (the False in the first column is because they have different names). They are a great match!"
   ]
  },
  {
   "cell_type": "markdown",
   "metadata": {},
   "source": [
    "## Match-making function\n",
    "Here we write a function that takes any person from the dataset and gives you their top matches."
   ]
  },
  {
   "cell_type": "code",
   "execution_count": 124,
   "metadata": {
    "collapsed": true
   },
   "outputs": [],
   "source": [
    "def find_matches(name=None, index=None, n=10, print_matches=True):\n",
    "    if name is None and index is None:\n",
    "        print('Enter an index or name.')\n",
    "    elif name is None:\n",
    "        name = df.iloc[index]['Name']\n",
    "    elif index is None:\n",
    "        index = list(df[df['Name'] == name].index)[0]\n",
    "    \n",
    "    match_indices = indices[index, 1:n + 1]\n",
    "    match_names = list(df.iloc[match_indices]['Name'])\n",
    "    match_distances = list(distances[index, 1:n + 1])\n",
    "    \n",
    "    if print_matches == True:\n",
    "        print(\"The best matches for \" + name + \" are:\")\n",
    "        for i, match_name in enumerate(match_names):\n",
    "            print(str(i + 1) + \". \" + match_name)\n",
    "    \n",
    "    return match_names, match_distances"
   ]
  },
  {
   "cell_type": "markdown",
   "metadata": {},
   "source": [
    "We can use this to find matches by name:"
   ]
  },
  {
   "cell_type": "code",
   "execution_count": 137,
   "metadata": {},
   "outputs": [
    {
     "name": "stdout",
     "output_type": "stream",
     "text": [
      "The best matches for Sally Abraham are:\n",
      "1. Alice Gosling\n",
      "2. Andrew Clarke\n",
      "3. Colin Downton\n",
      "4. Mac Quesnel\n",
      "5. Gary Jones\n",
      "6. Marquis Bonhomme\n",
      "7. Richard Gilbertson\n",
      "8. Zoe Walsh\n",
      "9. Cletus Bilal\n",
      "10. Clark Heberling\n"
     ]
    }
   ],
   "source": [
    "match_names, match_distances = find_matches(name='Sally Abraham')"
   ]
  },
  {
   "cell_type": "markdown",
   "metadata": {},
   "source": [
    "Or we can find matches by index in the dataframe:"
   ]
  },
  {
   "cell_type": "code",
   "execution_count": 138,
   "metadata": {},
   "outputs": [
    {
     "name": "stdout",
     "output_type": "stream",
     "text": [
      "The best matches for Sally Abraham are:\n",
      "1. Alice Gosling\n",
      "2. Andrew Clarke\n",
      "3. Colin Downton\n",
      "4. Mac Quesnel\n",
      "5. Gary Jones\n",
      "6. Marquis Bonhomme\n",
      "7. Richard Gilbertson\n",
      "8. Zoe Walsh\n",
      "9. Cletus Bilal\n",
      "10. Clark Heberling\n"
     ]
    }
   ],
   "source": [
    "match_names, match_distances = find_matches(index=0)"
   ]
  },
  {
   "cell_type": "markdown",
   "metadata": {},
   "source": [
    "Here is a function that will take those matches and plot how good a match each one is to the person."
   ]
  },
  {
   "cell_type": "code",
   "execution_count": 139,
   "metadata": {
    "collapsed": true
   },
   "outputs": [],
   "source": [
    "import matplotlib.pyplot as plt\n",
    "\n",
    "def plot_matches(name=None, index=None, n=10):\n",
    "    if name is None and index is None:\n",
    "        print('Enter an index or name.')\n",
    "    elif name is None:\n",
    "        name = df.iloc[index]['Name']\n",
    "    elif index is None:\n",
    "        index = list(df[df['Name'] == name].index)[0]\n",
    "    \n",
    "    match_names, match_distances = find_matches(name=name, print_matches=False, n=n)\n",
    "    \n",
    "    x = range(n)    \n",
    "    plt.bar(x, (1 - np.array(match_distances))*100)\n",
    "    plt.xticks(x, match_names, rotation='vertical')\n",
    "    plt.ylim([0, 100])\n",
    "    plt.xlabel('Top matches')\n",
    "    plt.ylabel('Match percentage')\n",
    "    plt.title('Top matches for ' + name)\n",
    "    plt.show()"
   ]
  },
  {
   "cell_type": "code",
   "execution_count": 140,
   "metadata": {},
   "outputs": [
    {
     "data": {
      "image/png": "[encoded data removed]",
      "text/plain": [
       "<matplotlib.figure.Figure at 0x2409fa23b70>"
      ]
     },
     "metadata": {},
     "output_type": "display_data"
    }
   ],
   "source": [
    "plot_matches(name='Sally Abraham', n=10)"
   ]
  }
 ],
 "metadata": {
  "kernelspec": {
   "display_name": "Python 3",
   "language": "python",
   "name": "python3"
  },
  "language_info": {
   "codemirror_mode": {
    "name": "ipython",
    "version": 3
   },
   "file_extension": ".py",
   "mimetype": "text/x-python",
   "name": "python",
   "nbconvert_exporter": "python",
   "pygments_lexer": "ipython3",
   "version": "3.6.3"
  }
 },
 "nbformat": 4,
 "nbformat_minor": 2
}
