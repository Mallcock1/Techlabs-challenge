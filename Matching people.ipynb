{
 "cells": [
  {
   "cell_type": "markdown",
   "metadata": {},
   "source": [
    "# Matching people\n",
    "Contents:\n",
    "- User recommendation - recommender system for matching users with 10 others based on their interest registered through the questionaire registration form. (almost done - needs updating and a check)\n",
    "- Data visualisation - view for user to aid understanding of their match percentage and their shared top interests. (done)"
   ]
  },
  {
   "cell_type": "markdown",
   "metadata": {},
   "source": [
    "# - User recommendation\n",
    "In this section, we use collaborative filtering to recommend users to other users based on the similarity of their interests."
   ]
  },
  {
   "cell_type": "code",
   "execution_count": 1,
   "metadata": {},
   "outputs": [],
   "source": [
    "# import necessary packages\n",
    "import pandas as pd\n",
    "import numpy as np"
   ]
  },
  {
   "cell_type": "code",
   "execution_count": 2,
   "metadata": {},
   "outputs": [],
   "source": [
    "# Read the  data and store as a Pandas dateframe\n",
    "df = pd.read_csv(\"TA_PreData.csv\")"
   ]
  },
  {
   "cell_type": "code",
   "execution_count": 3,
   "metadata": {
    "scrolled": true
   },
   "outputs": [
    {
     "data": {
      "text/html": [
       "<div>\n",
       "<style scoped>\n",
       "    .dataframe tbody tr th:only-of-type {\n",
       "        vertical-align: middle;\n",
       "    }\n",
       "\n",
       "    .dataframe tbody tr th {\n",
       "        vertical-align: top;\n",
       "    }\n",
       "\n",
       "    .dataframe thead th {\n",
       "        text-align: right;\n",
       "    }\n",
       "</style>\n",
       "<table border=\"1\" class=\"dataframe\">\n",
       "  <thead>\n",
       "    <tr style=\"text-align: right;\">\n",
       "      <th></th>\n",
       "      <th>Dancing</th>\n",
       "      <th>Singing</th>\n",
       "      <th>Writing</th>\n",
       "      <th>Meditation</th>\n",
       "      <th>Playing games</th>\n",
       "      <th>Active sports</th>\n",
       "      <th>Being creative</th>\n",
       "      <th>Acting</th>\n",
       "      <th>Cooking</th>\n",
       "      <th>Gardening</th>\n",
       "      <th>...</th>\n",
       "      <th>Daily events</th>\n",
       "      <th>Celebrities</th>\n",
       "      <th>Science and technology</th>\n",
       "      <th>Future goals</th>\n",
       "      <th>Sharing my past</th>\n",
       "      <th>Dreams</th>\n",
       "      <th>Loneliness</th>\n",
       "      <th>Health</th>\n",
       "      <th>Mental wellbeing</th>\n",
       "      <th>Life struggles</th>\n",
       "    </tr>\n",
       "  </thead>\n",
       "  <tbody>\n",
       "    <tr>\n",
       "      <th>count</th>\n",
       "      <td>1007.000000</td>\n",
       "      <td>1009.000000</td>\n",
       "      <td>1004.000000</td>\n",
       "      <td>995.000000</td>\n",
       "      <td>1006.000000</td>\n",
       "      <td>1006.000000</td>\n",
       "      <td>1004.000000</td>\n",
       "      <td>1002.000000</td>\n",
       "      <td>1007.000000</td>\n",
       "      <td>1003.000000</td>\n",
       "      <td>...</td>\n",
       "      <td>1003.000000</td>\n",
       "      <td>1008.000000</td>\n",
       "      <td>1004.000000</td>\n",
       "      <td>1007.000000</td>\n",
       "      <td>1008.000000</td>\n",
       "      <td>1010.000000</td>\n",
       "      <td>1009.000000</td>\n",
       "      <td>1009.000000</td>\n",
       "      <td>1006.000000</td>\n",
       "      <td>1007.000000</td>\n",
       "    </tr>\n",
       "    <tr>\n",
       "      <th>mean</th>\n",
       "      <td>2.461768</td>\n",
       "      <td>2.324083</td>\n",
       "      <td>1.901394</td>\n",
       "      <td>3.387940</td>\n",
       "      <td>4.557654</td>\n",
       "      <td>3.291252</td>\n",
       "      <td>2.589641</td>\n",
       "      <td>3.024950</td>\n",
       "      <td>3.031778</td>\n",
       "      <td>1.907278</td>\n",
       "      <td>...</td>\n",
       "      <td>3.074776</td>\n",
       "      <td>2.362103</td>\n",
       "      <td>3.234064</td>\n",
       "      <td>3.414101</td>\n",
       "      <td>2.952381</td>\n",
       "      <td>3.297030</td>\n",
       "      <td>2.887017</td>\n",
       "      <td>3.250743</td>\n",
       "      <td>3.258449</td>\n",
       "      <td>3.031778</td>\n",
       "    </tr>\n",
       "    <tr>\n",
       "      <th>std</th>\n",
       "      <td>1.450399</td>\n",
       "      <td>1.512850</td>\n",
       "      <td>1.287736</td>\n",
       "      <td>1.405027</td>\n",
       "      <td>0.737183</td>\n",
       "      <td>1.504111</td>\n",
       "      <td>1.322002</td>\n",
       "      <td>1.325375</td>\n",
       "      <td>0.936865</td>\n",
       "      <td>1.175421</td>\n",
       "      <td>...</td>\n",
       "      <td>1.118432</td>\n",
       "      <td>1.270251</td>\n",
       "      <td>1.282599</td>\n",
       "      <td>1.136910</td>\n",
       "      <td>1.278387</td>\n",
       "      <td>0.683148</td>\n",
       "      <td>1.131757</td>\n",
       "      <td>1.075319</td>\n",
       "      <td>1.044675</td>\n",
       "      <td>1.374644</td>\n",
       "    </tr>\n",
       "    <tr>\n",
       "      <th>min</th>\n",
       "      <td>1.000000</td>\n",
       "      <td>1.000000</td>\n",
       "      <td>1.000000</td>\n",
       "      <td>1.000000</td>\n",
       "      <td>2.000000</td>\n",
       "      <td>1.000000</td>\n",
       "      <td>1.000000</td>\n",
       "      <td>1.000000</td>\n",
       "      <td>1.000000</td>\n",
       "      <td>1.000000</td>\n",
       "      <td>...</td>\n",
       "      <td>1.000000</td>\n",
       "      <td>1.000000</td>\n",
       "      <td>1.000000</td>\n",
       "      <td>1.000000</td>\n",
       "      <td>1.000000</td>\n",
       "      <td>1.000000</td>\n",
       "      <td>1.000000</td>\n",
       "      <td>1.000000</td>\n",
       "      <td>1.000000</td>\n",
       "      <td>1.000000</td>\n",
       "    </tr>\n",
       "    <tr>\n",
       "      <th>25%</th>\n",
       "      <td>1.000000</td>\n",
       "      <td>1.000000</td>\n",
       "      <td>1.000000</td>\n",
       "      <td>2.000000</td>\n",
       "      <td>4.000000</td>\n",
       "      <td>2.000000</td>\n",
       "      <td>1.000000</td>\n",
       "      <td>2.000000</td>\n",
       "      <td>3.000000</td>\n",
       "      <td>1.000000</td>\n",
       "      <td>...</td>\n",
       "      <td>2.000000</td>\n",
       "      <td>1.000000</td>\n",
       "      <td>2.000000</td>\n",
       "      <td>3.000000</td>\n",
       "      <td>2.000000</td>\n",
       "      <td>3.000000</td>\n",
       "      <td>2.000000</td>\n",
       "      <td>3.000000</td>\n",
       "      <td>3.000000</td>\n",
       "      <td>2.000000</td>\n",
       "    </tr>\n",
       "    <tr>\n",
       "      <th>50%</th>\n",
       "      <td>2.000000</td>\n",
       "      <td>2.000000</td>\n",
       "      <td>1.000000</td>\n",
       "      <td>3.000000</td>\n",
       "      <td>5.000000</td>\n",
       "      <td>3.000000</td>\n",
       "      <td>2.000000</td>\n",
       "      <td>3.000000</td>\n",
       "      <td>3.000000</td>\n",
       "      <td>1.000000</td>\n",
       "      <td>...</td>\n",
       "      <td>3.000000</td>\n",
       "      <td>2.000000</td>\n",
       "      <td>3.000000</td>\n",
       "      <td>3.000000</td>\n",
       "      <td>3.000000</td>\n",
       "      <td>3.000000</td>\n",
       "      <td>3.000000</td>\n",
       "      <td>3.000000</td>\n",
       "      <td>3.000000</td>\n",
       "      <td>3.000000</td>\n",
       "    </tr>\n",
       "    <tr>\n",
       "      <th>75%</th>\n",
       "      <td>4.000000</td>\n",
       "      <td>4.000000</td>\n",
       "      <td>3.000000</td>\n",
       "      <td>5.000000</td>\n",
       "      <td>5.000000</td>\n",
       "      <td>5.000000</td>\n",
       "      <td>4.000000</td>\n",
       "      <td>4.000000</td>\n",
       "      <td>4.000000</td>\n",
       "      <td>3.000000</td>\n",
       "      <td>...</td>\n",
       "      <td>4.000000</td>\n",
       "      <td>3.000000</td>\n",
       "      <td>4.000000</td>\n",
       "      <td>4.000000</td>\n",
       "      <td>4.000000</td>\n",
       "      <td>4.000000</td>\n",
       "      <td>4.000000</td>\n",
       "      <td>4.000000</td>\n",
       "      <td>4.000000</td>\n",
       "      <td>4.000000</td>\n",
       "    </tr>\n",
       "    <tr>\n",
       "      <th>max</th>\n",
       "      <td>5.000000</td>\n",
       "      <td>5.000000</td>\n",
       "      <td>5.000000</td>\n",
       "      <td>5.000000</td>\n",
       "      <td>5.000000</td>\n",
       "      <td>5.000000</td>\n",
       "      <td>5.000000</td>\n",
       "      <td>5.000000</td>\n",
       "      <td>5.000000</td>\n",
       "      <td>5.000000</td>\n",
       "      <td>...</td>\n",
       "      <td>5.000000</td>\n",
       "      <td>5.000000</td>\n",
       "      <td>5.000000</td>\n",
       "      <td>5.000000</td>\n",
       "      <td>5.000000</td>\n",
       "      <td>5.000000</td>\n",
       "      <td>5.000000</td>\n",
       "      <td>5.000000</td>\n",
       "      <td>5.000000</td>\n",
       "      <td>5.000000</td>\n",
       "    </tr>\n",
       "  </tbody>\n",
       "</table>\n",
       "<p>8 rows × 25 columns</p>\n",
       "</div>"
      ],
      "text/plain": [
       "           Dancing      Singing      Writing  Meditation  Playing games  \\\n",
       "count  1007.000000  1009.000000  1004.000000  995.000000    1006.000000   \n",
       "mean      2.461768     2.324083     1.901394    3.387940       4.557654   \n",
       "std       1.450399     1.512850     1.287736    1.405027       0.737183   \n",
       "min       1.000000     1.000000     1.000000    1.000000       2.000000   \n",
       "25%       1.000000     1.000000     1.000000    2.000000       4.000000   \n",
       "50%       2.000000     2.000000     1.000000    3.000000       5.000000   \n",
       "75%       4.000000     4.000000     3.000000    5.000000       5.000000   \n",
       "max       5.000000     5.000000     5.000000    5.000000       5.000000   \n",
       "\n",
       "       Active sports  Being creative       Acting      Cooking    Gardening  \\\n",
       "count    1006.000000     1004.000000  1002.000000  1007.000000  1003.000000   \n",
       "mean        3.291252        2.589641     3.024950     3.031778     1.907278   \n",
       "std         1.504111        1.322002     1.325375     0.936865     1.175421   \n",
       "min         1.000000        1.000000     1.000000     1.000000     1.000000   \n",
       "25%         2.000000        1.000000     2.000000     3.000000     1.000000   \n",
       "50%         3.000000        2.000000     3.000000     3.000000     1.000000   \n",
       "75%         5.000000        4.000000     4.000000     4.000000     3.000000   \n",
       "max         5.000000        5.000000     5.000000     5.000000     5.000000   \n",
       "\n",
       "       ...  Daily events  Celebrities  Science and technology  Future goals  \\\n",
       "count  ...   1003.000000  1008.000000             1004.000000   1007.000000   \n",
       "mean   ...      3.074776     2.362103                3.234064      3.414101   \n",
       "std    ...      1.118432     1.270251                1.282599      1.136910   \n",
       "min    ...      1.000000     1.000000                1.000000      1.000000   \n",
       "25%    ...      2.000000     1.000000                2.000000      3.000000   \n",
       "50%    ...      3.000000     2.000000                3.000000      3.000000   \n",
       "75%    ...      4.000000     3.000000                4.000000      4.000000   \n",
       "max    ...      5.000000     5.000000                5.000000      5.000000   \n",
       "\n",
       "       Sharing my past       Dreams   Loneliness       Health  \\\n",
       "count      1008.000000  1010.000000  1009.000000  1009.000000   \n",
       "mean          2.952381     3.297030     2.887017     3.250743   \n",
       "std           1.278387     0.683148     1.131757     1.075319   \n",
       "min           1.000000     1.000000     1.000000     1.000000   \n",
       "25%           2.000000     3.000000     2.000000     3.000000   \n",
       "50%           3.000000     3.000000     3.000000     3.000000   \n",
       "75%           4.000000     4.000000     4.000000     4.000000   \n",
       "max           5.000000     5.000000     5.000000     5.000000   \n",
       "\n",
       "       Mental wellbeing  Life struggles  \n",
       "count       1006.000000     1007.000000  \n",
       "mean           3.258449        3.031778  \n",
       "std            1.044675        1.374644  \n",
       "min            1.000000        1.000000  \n",
       "25%            3.000000        2.000000  \n",
       "50%            3.000000        3.000000  \n",
       "75%            4.000000        4.000000  \n",
       "max            5.000000        5.000000  \n",
       "\n",
       "[8 rows x 25 columns]"
      ]
     },
     "execution_count": 3,
     "metadata": {},
     "output_type": "execute_result"
    }
   ],
   "source": [
    "df.describe()"
   ]
  },
  {
   "cell_type": "code",
   "execution_count": 4,
   "metadata": {
    "scrolled": true
   },
   "outputs": [
    {
     "data": {
      "text/html": [
       "<div>\n",
       "<style scoped>\n",
       "    .dataframe tbody tr th:only-of-type {\n",
       "        vertical-align: middle;\n",
       "    }\n",
       "\n",
       "    .dataframe tbody tr th {\n",
       "        vertical-align: top;\n",
       "    }\n",
       "\n",
       "    .dataframe thead th {\n",
       "        text-align: right;\n",
       "    }\n",
       "</style>\n",
       "<table border=\"1\" class=\"dataframe\">\n",
       "  <thead>\n",
       "    <tr style=\"text-align: right;\">\n",
       "      <th></th>\n",
       "      <th>Name</th>\n",
       "      <th>Dancing</th>\n",
       "      <th>Singing</th>\n",
       "      <th>Writing</th>\n",
       "      <th>Meditation</th>\n",
       "      <th>Playing games</th>\n",
       "      <th>Active sports</th>\n",
       "      <th>Being creative</th>\n",
       "      <th>Acting</th>\n",
       "      <th>Cooking</th>\n",
       "      <th>...</th>\n",
       "      <th>Daily events</th>\n",
       "      <th>Celebrities</th>\n",
       "      <th>Science and technology</th>\n",
       "      <th>Future goals</th>\n",
       "      <th>Sharing my past</th>\n",
       "      <th>Dreams</th>\n",
       "      <th>Loneliness</th>\n",
       "      <th>Health</th>\n",
       "      <th>Mental wellbeing</th>\n",
       "      <th>Life struggles</th>\n",
       "    </tr>\n",
       "  </thead>\n",
       "  <tbody>\n",
       "    <tr>\n",
       "      <th>0</th>\n",
       "      <td>Sally Abraham</td>\n",
       "      <td>3.0</td>\n",
       "      <td>3.0</td>\n",
       "      <td>2.0</td>\n",
       "      <td>1.0</td>\n",
       "      <td>5.0</td>\n",
       "      <td>5.0</td>\n",
       "      <td>1.0</td>\n",
       "      <td>2.0</td>\n",
       "      <td>4.0</td>\n",
       "      <td>...</td>\n",
       "      <td>2.0</td>\n",
       "      <td>1.0</td>\n",
       "      <td>4.0</td>\n",
       "      <td>2.0</td>\n",
       "      <td>1.0</td>\n",
       "      <td>4.0</td>\n",
       "      <td>3.0</td>\n",
       "      <td>1.0</td>\n",
       "      <td>3.0</td>\n",
       "      <td>1.0</td>\n",
       "    </tr>\n",
       "    <tr>\n",
       "      <th>1</th>\n",
       "      <td>Rebecca Acheson</td>\n",
       "      <td>1.0</td>\n",
       "      <td>1.0</td>\n",
       "      <td>1.0</td>\n",
       "      <td>1.0</td>\n",
       "      <td>4.0</td>\n",
       "      <td>1.0</td>\n",
       "      <td>2.0</td>\n",
       "      <td>2.0</td>\n",
       "      <td>3.0</td>\n",
       "      <td>...</td>\n",
       "      <td>3.0</td>\n",
       "      <td>2.0</td>\n",
       "      <td>3.0</td>\n",
       "      <td>4.0</td>\n",
       "      <td>4.0</td>\n",
       "      <td>3.0</td>\n",
       "      <td>2.0</td>\n",
       "      <td>4.0</td>\n",
       "      <td>4.0</td>\n",
       "      <td>1.0</td>\n",
       "    </tr>\n",
       "    <tr>\n",
       "      <th>2</th>\n",
       "      <td>Carole Ackland</td>\n",
       "      <td>5.0</td>\n",
       "      <td>5.0</td>\n",
       "      <td>5.0</td>\n",
       "      <td>5.0</td>\n",
       "      <td>5.0</td>\n",
       "      <td>2.0</td>\n",
       "      <td>5.0</td>\n",
       "      <td>5.0</td>\n",
       "      <td>3.0</td>\n",
       "      <td>...</td>\n",
       "      <td>1.0</td>\n",
       "      <td>1.0</td>\n",
       "      <td>2.0</td>\n",
       "      <td>5.0</td>\n",
       "      <td>5.0</td>\n",
       "      <td>1.0</td>\n",
       "      <td>5.0</td>\n",
       "      <td>2.0</td>\n",
       "      <td>4.0</td>\n",
       "      <td>4.0</td>\n",
       "    </tr>\n",
       "    <tr>\n",
       "      <th>3</th>\n",
       "      <td>Hayley Alderton</td>\n",
       "      <td>1.0</td>\n",
       "      <td>1.0</td>\n",
       "      <td>3.0</td>\n",
       "      <td>1.0</td>\n",
       "      <td>2.0</td>\n",
       "      <td>1.0</td>\n",
       "      <td>5.0</td>\n",
       "      <td>1.0</td>\n",
       "      <td>3.0</td>\n",
       "      <td>...</td>\n",
       "      <td>4.0</td>\n",
       "      <td>2.0</td>\n",
       "      <td>3.0</td>\n",
       "      <td>3.0</td>\n",
       "      <td>5.0</td>\n",
       "      <td>3.0</td>\n",
       "      <td>5.0</td>\n",
       "      <td>1.0</td>\n",
       "      <td>5.0</td>\n",
       "      <td>3.0</td>\n",
       "    </tr>\n",
       "    <tr>\n",
       "      <th>4</th>\n",
       "      <td>Nicola Allison</td>\n",
       "      <td>1.0</td>\n",
       "      <td>3.0</td>\n",
       "      <td>1.0</td>\n",
       "      <td>3.0</td>\n",
       "      <td>4.0</td>\n",
       "      <td>1.0</td>\n",
       "      <td>1.0</td>\n",
       "      <td>2.0</td>\n",
       "      <td>4.0</td>\n",
       "      <td>...</td>\n",
       "      <td>3.0</td>\n",
       "      <td>3.0</td>\n",
       "      <td>3.0</td>\n",
       "      <td>5.0</td>\n",
       "      <td>4.0</td>\n",
       "      <td>3.0</td>\n",
       "      <td>3.0</td>\n",
       "      <td>3.0</td>\n",
       "      <td>2.0</td>\n",
       "      <td>2.0</td>\n",
       "    </tr>\n",
       "  </tbody>\n",
       "</table>\n",
       "<p>5 rows × 26 columns</p>\n",
       "</div>"
      ],
      "text/plain": [
       "              Name  Dancing  Singing  Writing  Meditation  Playing games  \\\n",
       "0    Sally Abraham      3.0      3.0      2.0         1.0            5.0   \n",
       "1  Rebecca Acheson      1.0      1.0      1.0         1.0            4.0   \n",
       "2   Carole Ackland      5.0      5.0      5.0         5.0            5.0   \n",
       "3  Hayley Alderton      1.0      1.0      3.0         1.0            2.0   \n",
       "4   Nicola Allison      1.0      3.0      1.0         3.0            4.0   \n",
       "\n",
       "   Active sports  Being creative  Acting  Cooking  ...  Daily events  \\\n",
       "0            5.0             1.0     2.0      4.0  ...           2.0   \n",
       "1            1.0             2.0     2.0      3.0  ...           3.0   \n",
       "2            2.0             5.0     5.0      3.0  ...           1.0   \n",
       "3            1.0             5.0     1.0      3.0  ...           4.0   \n",
       "4            1.0             1.0     2.0      4.0  ...           3.0   \n",
       "\n",
       "   Celebrities  Science and technology  Future goals  Sharing my past  Dreams  \\\n",
       "0          1.0                     4.0           2.0              1.0     4.0   \n",
       "1          2.0                     3.0           4.0              4.0     3.0   \n",
       "2          1.0                     2.0           5.0              5.0     1.0   \n",
       "3          2.0                     3.0           3.0              5.0     3.0   \n",
       "4          3.0                     3.0           5.0              4.0     3.0   \n",
       "\n",
       "   Loneliness  Health  Mental wellbeing  Life struggles  \n",
       "0         3.0     1.0               3.0             1.0  \n",
       "1         2.0     4.0               4.0             1.0  \n",
       "2         5.0     2.0               4.0             4.0  \n",
       "3         5.0     1.0               5.0             3.0  \n",
       "4         3.0     3.0               2.0             2.0  \n",
       "\n",
       "[5 rows x 26 columns]"
      ]
     },
     "execution_count": 4,
     "metadata": {},
     "output_type": "execute_result"
    }
   ],
   "source": [
    "df.head()"
   ]
  },
  {
   "cell_type": "markdown",
   "metadata": {},
   "source": [
    "Let's create a dataset without the names for ease of data analysis."
   ]
  },
  {
   "cell_type": "code",
   "execution_count": 5,
   "metadata": {},
   "outputs": [],
   "source": [
    "df_noname = df.iloc[:,1:]"
   ]
  },
  {
   "cell_type": "markdown",
   "metadata": {},
   "source": [
    "The dataset has a number of NaN entries, where questionnaire participants did not answer a particular question. Let's see what proportion of the entries are NaN."
   ]
  },
  {
   "cell_type": "code",
   "execution_count": 6,
   "metadata": {},
   "outputs": [
    {
     "data": {
      "text/plain": [
       "0.004356435643564357"
      ]
     },
     "execution_count": 6,
     "metadata": {},
     "output_type": "execute_result"
    }
   ],
   "source": [
    "df_noname.isnull().sum().sum()/(df_noname.shape[0]*df_noname.shape[1])"
   ]
  },
  {
   "cell_type": "markdown",
   "metadata": {},
   "source": [
    "The proportion of unanswered questions is small, so we should be able to use all the people for the recommender system by filling in the missing values with the mean of that user's scores. Before we do that, let's centre each row, so that the every user's mean score is 0. "
   ]
  },
  {
   "cell_type": "code",
   "execution_count": 7,
   "metadata": {},
   "outputs": [],
   "source": [
    "#Centre each row\n",
    "df_noname = df_noname.sub(df_noname.mean(axis=1), axis=0)"
   ]
  },
  {
   "cell_type": "code",
   "execution_count": 8,
   "metadata": {},
   "outputs": [],
   "source": [
    "# fill nans with 0.0 (mean of centred rows)\n",
    "df_noname = df_noname.fillna(0.)"
   ]
  },
  {
   "cell_type": "markdown",
   "metadata": {},
   "source": [
    "Now we can start building a recommender system. We use a k-nearest neighbor algorithm that calculate the \"distance\" between each person based on their scores given to each interest. The people who are \"closest\" to a person A are person A's matches.\n",
    "\n",
    "For this, we need a suitable notion of \"distance\". We'll use the \"cosine distance\" for this as the angle between the people in the high-dimensiona lparameter space is important as well as the Euclidean distance between people.\n",
    "\n",
    "The matches of person A are the people who have the minimum distance to person A."
   ]
  },
  {
   "cell_type": "code",
   "execution_count": 9,
   "metadata": {},
   "outputs": [
    {
     "data": {
      "text/plain": [
       "NearestNeighbors(algorithm='brute', leaf_size=30, metric='cosine',\n",
       "                 metric_params=None, n_jobs=-1, n_neighbors=20, p=2,\n",
       "                 radius=1.0)"
      ]
     },
     "execution_count": 9,
     "metadata": {},
     "output_type": "execute_result"
    }
   ],
   "source": [
    "from sklearn.neighbors import NearestNeighbors\n",
    "\n",
    "# Number of closest neighbors to find\n",
    "n_neighbors = 20\n",
    "\n",
    "# make an object for the NearestNeighbors Class.\n",
    "model_knn = NearestNeighbors(metric='cosine', algorithm='brute', n_neighbors=n_neighbors, n_jobs=-1)\n",
    "\n",
    "# fit the dataset\n",
    "model_knn.fit(df_noname)"
   ]
  },
  {
   "cell_type": "markdown",
   "metadata": {},
   "source": [
    "Now find distances and indices in the dataframe of the nearest neighbors of each peron."
   ]
  },
  {
   "cell_type": "code",
   "execution_count": 10,
   "metadata": {},
   "outputs": [],
   "source": [
    "distances, indices = model_knn.kneighbors(df_noname)"
   ]
  },
  {
   "cell_type": "code",
   "execution_count": 11,
   "metadata": {},
   "outputs": [
    {
     "data": {
      "text/plain": [
       "array([[0.        , 0.26587302, 0.31050719, ..., 0.39935084, 0.39987996,\n",
       "        0.4092988 ],\n",
       "       [0.        , 0.13352779, 0.16052451, ..., 0.28087146, 0.28148301,\n",
       "        0.29049013],\n",
       "       [0.        , 0.26248343, 0.28469536, ..., 0.42763644, 0.43004443,\n",
       "        0.43007842],\n",
       "       ...,\n",
       "       [0.        , 0.23339605, 0.24115081, ..., 0.32712265, 0.32847482,\n",
       "        0.32892977],\n",
       "       [0.        , 0.21293541, 0.30965617, ..., 0.39988858, 0.40115266,\n",
       "        0.40206925],\n",
       "       [0.        , 0.24029555, 0.24128838, ..., 0.3030752 , 0.30522213,\n",
       "        0.30791027]])"
      ]
     },
     "execution_count": 11,
     "metadata": {},
     "output_type": "execute_result"
    }
   ],
   "source": [
    "distances"
   ]
  },
  {
   "cell_type": "code",
   "execution_count": 12,
   "metadata": {},
   "outputs": [
    {
     "data": {
      "text/plain": [
       "array([[   0,  430,  348, ...,  580,  670,  830],\n",
       "       [   1,  448,   47, ...,   84,  423,   42],\n",
       "       [   2,  217,  262, ...,  155,  108,  133],\n",
       "       ...,\n",
       "       [1007,  200,  934, ...,  846,  935,  850],\n",
       "       [1008,  407,  592, ...,  444,  272,  657],\n",
       "       [1009,  818,  945, ...,  574,  852,  513]], dtype=int64)"
      ]
     },
     "execution_count": 12,
     "metadata": {},
     "output_type": "execute_result"
    }
   ],
   "source": [
    "indices"
   ]
  },
  {
   "cell_type": "markdown",
   "metadata": {},
   "source": [
    "The shortest distance between any two people in the dataframe can be found by:"
   ]
  },
  {
   "cell_type": "code",
   "execution_count": 13,
   "metadata": {},
   "outputs": [
    {
     "data": {
      "text/plain": [
       "0.010400718013760413"
      ]
     },
     "execution_count": 13,
     "metadata": {},
     "output_type": "execute_result"
    }
   ],
   "source": [
    "distances[:,1].min()"
   ]
  },
  {
   "cell_type": "markdown",
   "metadata": {},
   "source": [
    "Let's find out which two people are closest."
   ]
  },
  {
   "cell_type": "code",
   "execution_count": 14,
   "metadata": {},
   "outputs": [
    {
     "data": {
      "text/plain": [
       "(array([449, 453], dtype=int64), array([1, 1], dtype=int64))"
      ]
     },
     "execution_count": 14,
     "metadata": {},
     "output_type": "execute_result"
    }
   ],
   "source": [
    "np.where(distances == distances[:,1].min())"
   ]
  },
  {
   "cell_type": "markdown",
   "metadata": {},
   "source": [
    "So it's the people with indices 449 and 453 in the dataframe. Their names are:"
   ]
  },
  {
   "cell_type": "code",
   "execution_count": 15,
   "metadata": {},
   "outputs": [
    {
     "data": {
      "text/plain": [
       "['Fiona Henderson', 'Melanie Herring']"
      ]
     },
     "execution_count": 15,
     "metadata": {},
     "output_type": "execute_result"
    }
   ],
   "source": [
    "list(df.iloc[[449,453],:]['Name'])"
   ]
  },
  {
   "cell_type": "markdown",
   "metadata": {},
   "source": [
    "Let's check their interests to confirm that they match well."
   ]
  },
  {
   "cell_type": "code",
   "execution_count": 16,
   "metadata": {},
   "outputs": [
    {
     "data": {
      "text/html": [
       "<div>\n",
       "<style scoped>\n",
       "    .dataframe tbody tr th:only-of-type {\n",
       "        vertical-align: middle;\n",
       "    }\n",
       "\n",
       "    .dataframe tbody tr th {\n",
       "        vertical-align: top;\n",
       "    }\n",
       "\n",
       "    .dataframe thead th {\n",
       "        text-align: right;\n",
       "    }\n",
       "</style>\n",
       "<table border=\"1\" class=\"dataframe\">\n",
       "  <thead>\n",
       "    <tr style=\"text-align: right;\">\n",
       "      <th></th>\n",
       "      <th>Name</th>\n",
       "      <th>Dancing</th>\n",
       "      <th>Singing</th>\n",
       "      <th>Writing</th>\n",
       "      <th>Meditation</th>\n",
       "      <th>Playing games</th>\n",
       "      <th>Active sports</th>\n",
       "      <th>Being creative</th>\n",
       "      <th>Acting</th>\n",
       "      <th>Cooking</th>\n",
       "      <th>...</th>\n",
       "      <th>Daily events</th>\n",
       "      <th>Celebrities</th>\n",
       "      <th>Science and technology</th>\n",
       "      <th>Future goals</th>\n",
       "      <th>Sharing my past</th>\n",
       "      <th>Dreams</th>\n",
       "      <th>Loneliness</th>\n",
       "      <th>Health</th>\n",
       "      <th>Mental wellbeing</th>\n",
       "      <th>Life struggles</th>\n",
       "    </tr>\n",
       "  </thead>\n",
       "  <tbody>\n",
       "    <tr>\n",
       "      <th>449</th>\n",
       "      <td>Fiona Henderson</td>\n",
       "      <td>3.0</td>\n",
       "      <td>1.0</td>\n",
       "      <td>1.0</td>\n",
       "      <td>2.0</td>\n",
       "      <td>5.0</td>\n",
       "      <td>1.0</td>\n",
       "      <td>1.0</td>\n",
       "      <td>5.0</td>\n",
       "      <td>2.0</td>\n",
       "      <td>...</td>\n",
       "      <td>3.0</td>\n",
       "      <td>2.0</td>\n",
       "      <td>3.0</td>\n",
       "      <td>5.0</td>\n",
       "      <td>3.0</td>\n",
       "      <td>3.0</td>\n",
       "      <td>3.0</td>\n",
       "      <td>4.0</td>\n",
       "      <td>4.0</td>\n",
       "      <td>4.0</td>\n",
       "    </tr>\n",
       "    <tr>\n",
       "      <th>453</th>\n",
       "      <td>Melanie Herring</td>\n",
       "      <td>3.0</td>\n",
       "      <td>1.0</td>\n",
       "      <td>1.0</td>\n",
       "      <td>2.0</td>\n",
       "      <td>5.0</td>\n",
       "      <td>1.0</td>\n",
       "      <td>1.0</td>\n",
       "      <td>5.0</td>\n",
       "      <td>2.0</td>\n",
       "      <td>...</td>\n",
       "      <td>3.0</td>\n",
       "      <td>2.0</td>\n",
       "      <td>3.0</td>\n",
       "      <td>5.0</td>\n",
       "      <td>3.0</td>\n",
       "      <td>3.0</td>\n",
       "      <td>3.0</td>\n",
       "      <td>4.0</td>\n",
       "      <td>3.0</td>\n",
       "      <td>4.0</td>\n",
       "    </tr>\n",
       "  </tbody>\n",
       "</table>\n",
       "<p>2 rows × 26 columns</p>\n",
       "</div>"
      ],
      "text/plain": [
       "                Name  Dancing  Singing  Writing  Meditation  Playing games  \\\n",
       "449  Fiona Henderson      3.0      1.0      1.0         2.0            5.0   \n",
       "453  Melanie Herring      3.0      1.0      1.0         2.0            5.0   \n",
       "\n",
       "     Active sports  Being creative  Acting  Cooking  ...  Daily events  \\\n",
       "449            1.0             1.0     5.0      2.0  ...           3.0   \n",
       "453            1.0             1.0     5.0      2.0  ...           3.0   \n",
       "\n",
       "     Celebrities  Science and technology  Future goals  Sharing my past  \\\n",
       "449          2.0                     3.0           5.0              3.0   \n",
       "453          2.0                     3.0           5.0              3.0   \n",
       "\n",
       "     Dreams  Loneliness  Health  Mental wellbeing  Life struggles  \n",
       "449     3.0         3.0     4.0               4.0             4.0  \n",
       "453     3.0         3.0     4.0               3.0             4.0  \n",
       "\n",
       "[2 rows x 26 columns]"
      ]
     },
     "execution_count": 16,
     "metadata": {},
     "output_type": "execute_result"
    }
   ],
   "source": [
    "df.iloc[[449,453],:]"
   ]
  },
  {
   "cell_type": "code",
   "execution_count": 17,
   "metadata": {},
   "outputs": [
    {
     "data": {
      "text/plain": [
       "Name                      False\n",
       "Dancing                    True\n",
       "Singing                    True\n",
       "Writing                    True\n",
       "Meditation                 True\n",
       "Playing games              True\n",
       "Active sports              True\n",
       "Being creative             True\n",
       "Acting                     True\n",
       "Cooking                    True\n",
       "Gardening                  True\n",
       "Pets                      False\n",
       "Music                      True\n",
       "Movies                     True\n",
       "Reading                    True\n",
       "Foreign languages          True\n",
       "Daily events               True\n",
       "Celebrities                True\n",
       "Science and technology     True\n",
       "Future goals               True\n",
       "Sharing my past            True\n",
       "Dreams                     True\n",
       "Loneliness                 True\n",
       "Health                     True\n",
       "Mental wellbeing          False\n",
       "Life struggles             True\n",
       "dtype: bool"
      ]
     },
     "execution_count": 17,
     "metadata": {},
     "output_type": "execute_result"
    }
   ],
   "source": [
    "df.iloc[449,:] == df.iloc[453,:]"
   ]
  },
  {
   "cell_type": "markdown",
   "metadata": {},
   "source": [
    "So they only gave different answers to 2 out of the 25 interests (the False in the first column is because they have different names). They are a great match!"
   ]
  },
  {
   "cell_type": "markdown",
   "metadata": {},
   "source": [
    "## Match-making function\n",
    "Here we write a function that takes any person from the dataset and gives you their top matches."
   ]
  },
  {
   "cell_type": "code",
   "execution_count": 18,
   "metadata": {},
   "outputs": [],
   "source": [
    "def find_matches(name=None, index=None, n=10, print_matches=True):\n",
    "    if name is None and index is None:\n",
    "        print('Enter an index or name.')\n",
    "    elif name is None:\n",
    "        name = df.iloc[index]['Name']\n",
    "    elif index is None:\n",
    "        index = list(df[df['Name'] == name].index)[0]\n",
    "    \n",
    "    match_indices = indices[index, 1:n + 1]\n",
    "    match_names = list(df.iloc[match_indices]['Name'])\n",
    "    match_distances = list(distances[index, 1:n + 1])\n",
    "    \n",
    "    if print_matches == True:\n",
    "        print(\"The best matches for \" + name + \" are:\")\n",
    "        for i, match_name in enumerate(match_names):\n",
    "            print(str(i + 1) + \". \" + match_name)\n",
    "    \n",
    "    return match_names, match_distances"
   ]
  },
  {
   "cell_type": "markdown",
   "metadata": {},
   "source": [
    "We can use this to find matches by name:"
   ]
  },
  {
   "cell_type": "code",
   "execution_count": 19,
   "metadata": {},
   "outputs": [
    {
     "name": "stdout",
     "output_type": "stream",
     "text": [
      "The best matches for Sally Abraham are:\n",
      "1. Alice Gosling\n",
      "2. Andrew Clarke\n",
      "3. Colin Downton\n",
      "4. Mac Quesnel\n",
      "5. Gary Jones\n",
      "6. Marquis Bonhomme\n",
      "7. Richard Gilbertson\n",
      "8. Zoe Walsh\n",
      "9. Cletus Bilal\n",
      "10. Clark Heberling\n"
     ]
    }
   ],
   "source": [
    "match_names, match_distances = find_matches(name='Sally Abraham')"
   ]
  },
  {
   "cell_type": "markdown",
   "metadata": {},
   "source": [
    "Or we can find matches by index in the dataframe:"
   ]
  },
  {
   "cell_type": "code",
   "execution_count": 20,
   "metadata": {},
   "outputs": [
    {
     "name": "stdout",
     "output_type": "stream",
     "text": [
      "The best matches for Sally Abraham are:\n",
      "1. Alice Gosling\n",
      "2. Andrew Clarke\n",
      "3. Colin Downton\n",
      "4. Mac Quesnel\n",
      "5. Gary Jones\n",
      "6. Marquis Bonhomme\n",
      "7. Richard Gilbertson\n",
      "8. Zoe Walsh\n",
      "9. Cletus Bilal\n",
      "10. Clark Heberling\n"
     ]
    }
   ],
   "source": [
    "match_names, match_distances = find_matches(index=0)"
   ]
  },
  {
   "cell_type": "markdown",
   "metadata": {},
   "source": [
    "Here is a function that will take those matches and plot how good a match each one is to the person."
   ]
  },
  {
   "cell_type": "code",
   "execution_count": 21,
   "metadata": {},
   "outputs": [],
   "source": [
    "import matplotlib.pyplot as plt\n",
    "\n",
    "def plot_matches(name=None, index=None, n=10):\n",
    "    if name is None and index is None:\n",
    "        print('Enter an index or name.')\n",
    "    elif name is None:\n",
    "        name = df.iloc[index]['Name']\n",
    "    elif index is None:\n",
    "        index = list(df[df['Name'] == name].index)[0]\n",
    "    \n",
    "    match_names, match_distances = find_matches(name=name, print_matches=False, n=n)\n",
    "    \n",
    "    x = range(n)    \n",
    "    plt.bar(x, (1 - np.array(match_distances))*100)\n",
    "    plt.xticks(x, match_names, rotation='vertical')\n",
    "    plt.ylim([0, 100])\n",
    "    plt.xlabel('Top matches')\n",
    "    plt.ylabel('Match percentage')\n",
    "    plt.title('Top matches for ' + name)\n",
    "    plt.show()"
   ]
  },
  {
   "cell_type": "code",
   "execution_count": 22,
   "metadata": {
    "scrolled": false
   },
   "outputs": [
    {
     "data": {
      "image/png": "[encoded data removed]",
      "text/plain": [
       "<Figure size 432x288 with 1 Axes>"
      ]
     },
     "metadata": {
      "needs_background": "light"
     },
     "output_type": "display_data"
    }
   ],
   "source": [
    "plot_matches(name='Sally Abraham', n=10)"
   ]
  },
  {
   "cell_type": "markdown",
   "metadata": {},
   "source": [
    "# - Data Visualisation\n",
    "\n",
    "In this section, we create several data visualistions that will be seen by the user once that person completes the registration form. The aim is to aid understanding of their match percentage and their shared top interests.\n",
    "\n",
    "* Scores for matching users data visualisation with a possibility to have top three shared interests icons as an overlay over the plot bars.\n",
    "\n",
    "\n",
    "* Shared interests between the main user and the matched person. Data visualisation for the view of the main user in a form of cluster/nested bars, displaying the interests that have been scored 4 or 5 by the both parties, with focus on the comparison between their levels of interest.\n",
    "\n",
    "\n",
    "* Shared interests between the main user and the matched person. Data visulaisation for the view of the main user in the form of bars, displaying the means of their interests, with a visual estimate of their difference overlayed on the plot, and with focus on the levels of their shared interests. Displaying the interests that have been scored 3, 4 or 5 by the both parties."
   ]
  },
  {
   "cell_type": "markdown",
   "metadata": {},
   "source": [
    "### Top three matching interests\n",
    "We create functions in order to see the top three matching intersests for a user and its 10 matches."
   ]
  },
  {
   "cell_type": "code",
   "execution_count": 23,
   "metadata": {},
   "outputs": [
    {
     "data": {
      "text/html": [
       "<div>\n",
       "<style scoped>\n",
       "    .dataframe tbody tr th:only-of-type {\n",
       "        vertical-align: middle;\n",
       "    }\n",
       "\n",
       "    .dataframe tbody tr th {\n",
       "        vertical-align: top;\n",
       "    }\n",
       "\n",
       "    .dataframe thead th {\n",
       "        text-align: right;\n",
       "    }\n",
       "</style>\n",
       "<table border=\"1\" class=\"dataframe\">\n",
       "  <thead>\n",
       "    <tr style=\"text-align: right;\">\n",
       "      <th></th>\n",
       "      <th>Name</th>\n",
       "      <th>Dancing</th>\n",
       "      <th>Singing</th>\n",
       "      <th>Writing</th>\n",
       "      <th>Meditation</th>\n",
       "      <th>Playing games</th>\n",
       "      <th>Active sports</th>\n",
       "      <th>Being creative</th>\n",
       "      <th>Acting</th>\n",
       "      <th>Cooking</th>\n",
       "      <th>...</th>\n",
       "      <th>Daily events</th>\n",
       "      <th>Celebrities</th>\n",
       "      <th>Science and technology</th>\n",
       "      <th>Future goals</th>\n",
       "      <th>Sharing my past</th>\n",
       "      <th>Dreams</th>\n",
       "      <th>Loneliness</th>\n",
       "      <th>Health</th>\n",
       "      <th>Mental wellbeing</th>\n",
       "      <th>Life struggles</th>\n",
       "    </tr>\n",
       "  </thead>\n",
       "  <tbody>\n",
       "    <tr>\n",
       "      <th>0</th>\n",
       "      <td>Sally Abraham</td>\n",
       "      <td>3.0</td>\n",
       "      <td>3.0</td>\n",
       "      <td>2.0</td>\n",
       "      <td>1.0</td>\n",
       "      <td>5.0</td>\n",
       "      <td>5.0</td>\n",
       "      <td>1.0</td>\n",
       "      <td>2.0</td>\n",
       "      <td>4.0</td>\n",
       "      <td>...</td>\n",
       "      <td>2.0</td>\n",
       "      <td>1.0</td>\n",
       "      <td>4.0</td>\n",
       "      <td>2.0</td>\n",
       "      <td>1.0</td>\n",
       "      <td>4.0</td>\n",
       "      <td>3.0</td>\n",
       "      <td>1.0</td>\n",
       "      <td>3.0</td>\n",
       "      <td>1.0</td>\n",
       "    </tr>\n",
       "    <tr>\n",
       "      <th>1</th>\n",
       "      <td>Rebecca Acheson</td>\n",
       "      <td>1.0</td>\n",
       "      <td>1.0</td>\n",
       "      <td>1.0</td>\n",
       "      <td>1.0</td>\n",
       "      <td>4.0</td>\n",
       "      <td>1.0</td>\n",
       "      <td>2.0</td>\n",
       "      <td>2.0</td>\n",
       "      <td>3.0</td>\n",
       "      <td>...</td>\n",
       "      <td>3.0</td>\n",
       "      <td>2.0</td>\n",
       "      <td>3.0</td>\n",
       "      <td>4.0</td>\n",
       "      <td>4.0</td>\n",
       "      <td>3.0</td>\n",
       "      <td>2.0</td>\n",
       "      <td>4.0</td>\n",
       "      <td>4.0</td>\n",
       "      <td>1.0</td>\n",
       "    </tr>\n",
       "    <tr>\n",
       "      <th>2</th>\n",
       "      <td>Carole Ackland</td>\n",
       "      <td>5.0</td>\n",
       "      <td>5.0</td>\n",
       "      <td>5.0</td>\n",
       "      <td>5.0</td>\n",
       "      <td>5.0</td>\n",
       "      <td>2.0</td>\n",
       "      <td>5.0</td>\n",
       "      <td>5.0</td>\n",
       "      <td>3.0</td>\n",
       "      <td>...</td>\n",
       "      <td>1.0</td>\n",
       "      <td>1.0</td>\n",
       "      <td>2.0</td>\n",
       "      <td>5.0</td>\n",
       "      <td>5.0</td>\n",
       "      <td>1.0</td>\n",
       "      <td>5.0</td>\n",
       "      <td>2.0</td>\n",
       "      <td>4.0</td>\n",
       "      <td>4.0</td>\n",
       "    </tr>\n",
       "    <tr>\n",
       "      <th>3</th>\n",
       "      <td>Hayley Alderton</td>\n",
       "      <td>1.0</td>\n",
       "      <td>1.0</td>\n",
       "      <td>3.0</td>\n",
       "      <td>1.0</td>\n",
       "      <td>2.0</td>\n",
       "      <td>1.0</td>\n",
       "      <td>5.0</td>\n",
       "      <td>1.0</td>\n",
       "      <td>3.0</td>\n",
       "      <td>...</td>\n",
       "      <td>4.0</td>\n",
       "      <td>2.0</td>\n",
       "      <td>3.0</td>\n",
       "      <td>3.0</td>\n",
       "      <td>5.0</td>\n",
       "      <td>3.0</td>\n",
       "      <td>5.0</td>\n",
       "      <td>1.0</td>\n",
       "      <td>5.0</td>\n",
       "      <td>3.0</td>\n",
       "    </tr>\n",
       "    <tr>\n",
       "      <th>4</th>\n",
       "      <td>Nicola Allison</td>\n",
       "      <td>1.0</td>\n",
       "      <td>3.0</td>\n",
       "      <td>1.0</td>\n",
       "      <td>3.0</td>\n",
       "      <td>4.0</td>\n",
       "      <td>1.0</td>\n",
       "      <td>1.0</td>\n",
       "      <td>2.0</td>\n",
       "      <td>4.0</td>\n",
       "      <td>...</td>\n",
       "      <td>3.0</td>\n",
       "      <td>3.0</td>\n",
       "      <td>3.0</td>\n",
       "      <td>5.0</td>\n",
       "      <td>4.0</td>\n",
       "      <td>3.0</td>\n",
       "      <td>3.0</td>\n",
       "      <td>3.0</td>\n",
       "      <td>2.0</td>\n",
       "      <td>2.0</td>\n",
       "    </tr>\n",
       "    <tr>\n",
       "      <th>...</th>\n",
       "      <td>...</td>\n",
       "      <td>...</td>\n",
       "      <td>...</td>\n",
       "      <td>...</td>\n",
       "      <td>...</td>\n",
       "      <td>...</td>\n",
       "      <td>...</td>\n",
       "      <td>...</td>\n",
       "      <td>...</td>\n",
       "      <td>...</td>\n",
       "      <td>...</td>\n",
       "      <td>...</td>\n",
       "      <td>...</td>\n",
       "      <td>...</td>\n",
       "      <td>...</td>\n",
       "      <td>...</td>\n",
       "      <td>...</td>\n",
       "      <td>...</td>\n",
       "      <td>...</td>\n",
       "      <td>...</td>\n",
       "      <td>...</td>\n",
       "    </tr>\n",
       "    <tr>\n",
       "      <th>1005</th>\n",
       "      <td>Caroline Wilks</td>\n",
       "      <td>2.0</td>\n",
       "      <td>3.0</td>\n",
       "      <td>4.0</td>\n",
       "      <td>4.0</td>\n",
       "      <td>5.0</td>\n",
       "      <td>4.0</td>\n",
       "      <td>5.0</td>\n",
       "      <td>5.0</td>\n",
       "      <td>3.0</td>\n",
       "      <td>...</td>\n",
       "      <td>3.0</td>\n",
       "      <td>4.0</td>\n",
       "      <td>3.0</td>\n",
       "      <td>2.0</td>\n",
       "      <td>1.0</td>\n",
       "      <td>3.0</td>\n",
       "      <td>4.0</td>\n",
       "      <td>4.0</td>\n",
       "      <td>3.0</td>\n",
       "      <td>4.0</td>\n",
       "    </tr>\n",
       "    <tr>\n",
       "      <th>1006</th>\n",
       "      <td>Roy Martin</td>\n",
       "      <td>5.0</td>\n",
       "      <td>5.0</td>\n",
       "      <td>1.0</td>\n",
       "      <td>1.0</td>\n",
       "      <td>5.0</td>\n",
       "      <td>5.0</td>\n",
       "      <td>1.0</td>\n",
       "      <td>1.0</td>\n",
       "      <td>3.0</td>\n",
       "      <td>...</td>\n",
       "      <td>1.0</td>\n",
       "      <td>1.0</td>\n",
       "      <td>5.0</td>\n",
       "      <td>5.0</td>\n",
       "      <td>4.0</td>\n",
       "      <td>3.0</td>\n",
       "      <td>1.0</td>\n",
       "      <td>3.0</td>\n",
       "      <td>1.0</td>\n",
       "      <td>1.0</td>\n",
       "    </tr>\n",
       "    <tr>\n",
       "      <th>1007</th>\n",
       "      <td>Lelia Williams</td>\n",
       "      <td>1.0</td>\n",
       "      <td>2.0</td>\n",
       "      <td>1.0</td>\n",
       "      <td>2.0</td>\n",
       "      <td>3.0</td>\n",
       "      <td>2.0</td>\n",
       "      <td>1.0</td>\n",
       "      <td>2.0</td>\n",
       "      <td>2.0</td>\n",
       "      <td>...</td>\n",
       "      <td>3.0</td>\n",
       "      <td>1.0</td>\n",
       "      <td>3.0</td>\n",
       "      <td>4.0</td>\n",
       "      <td>5.0</td>\n",
       "      <td>3.0</td>\n",
       "      <td>4.0</td>\n",
       "      <td>3.0</td>\n",
       "      <td>2.0</td>\n",
       "      <td>5.0</td>\n",
       "    </tr>\n",
       "    <tr>\n",
       "      <th>1008</th>\n",
       "      <td>Lauren Williamson</td>\n",
       "      <td>4.0</td>\n",
       "      <td>1.0</td>\n",
       "      <td>4.0</td>\n",
       "      <td>2.0</td>\n",
       "      <td>5.0</td>\n",
       "      <td>4.0</td>\n",
       "      <td>5.0</td>\n",
       "      <td>5.0</td>\n",
       "      <td>3.0</td>\n",
       "      <td>...</td>\n",
       "      <td>3.0</td>\n",
       "      <td>3.0</td>\n",
       "      <td>5.0</td>\n",
       "      <td>3.0</td>\n",
       "      <td>3.0</td>\n",
       "      <td>3.0</td>\n",
       "      <td>3.0</td>\n",
       "      <td>4.0</td>\n",
       "      <td>4.0</td>\n",
       "      <td>5.0</td>\n",
       "    </tr>\n",
       "    <tr>\n",
       "      <th>1009</th>\n",
       "      <td>Ciaran May</td>\n",
       "      <td>2.0</td>\n",
       "      <td>1.0</td>\n",
       "      <td>2.0</td>\n",
       "      <td>5.0</td>\n",
       "      <td>5.0</td>\n",
       "      <td>4.0</td>\n",
       "      <td>1.0</td>\n",
       "      <td>1.0</td>\n",
       "      <td>3.0</td>\n",
       "      <td>...</td>\n",
       "      <td>3.0</td>\n",
       "      <td>3.0</td>\n",
       "      <td>3.0</td>\n",
       "      <td>4.0</td>\n",
       "      <td>1.0</td>\n",
       "      <td>3.0</td>\n",
       "      <td>3.0</td>\n",
       "      <td>5.0</td>\n",
       "      <td>2.0</td>\n",
       "      <td>2.0</td>\n",
       "    </tr>\n",
       "  </tbody>\n",
       "</table>\n",
       "<p>1010 rows × 26 columns</p>\n",
       "</div>"
      ],
      "text/plain": [
       "                   Name  Dancing  Singing  Writing  Meditation  Playing games  \\\n",
       "0         Sally Abraham      3.0      3.0      2.0         1.0            5.0   \n",
       "1       Rebecca Acheson      1.0      1.0      1.0         1.0            4.0   \n",
       "2        Carole Ackland      5.0      5.0      5.0         5.0            5.0   \n",
       "3       Hayley Alderton      1.0      1.0      3.0         1.0            2.0   \n",
       "4        Nicola Allison      1.0      3.0      1.0         3.0            4.0   \n",
       "...                 ...      ...      ...      ...         ...            ...   \n",
       "1005     Caroline Wilks      2.0      3.0      4.0         4.0            5.0   \n",
       "1006         Roy Martin      5.0      5.0      1.0         1.0            5.0   \n",
       "1007     Lelia Williams      1.0      2.0      1.0         2.0            3.0   \n",
       "1008  Lauren Williamson      4.0      1.0      4.0         2.0            5.0   \n",
       "1009         Ciaran May      2.0      1.0      2.0         5.0            5.0   \n",
       "\n",
       "      Active sports  Being creative  Acting  Cooking  ...  Daily events  \\\n",
       "0               5.0             1.0     2.0      4.0  ...           2.0   \n",
       "1               1.0             2.0     2.0      3.0  ...           3.0   \n",
       "2               2.0             5.0     5.0      3.0  ...           1.0   \n",
       "3               1.0             5.0     1.0      3.0  ...           4.0   \n",
       "4               1.0             1.0     2.0      4.0  ...           3.0   \n",
       "...             ...             ...     ...      ...  ...           ...   \n",
       "1005            4.0             5.0     5.0      3.0  ...           3.0   \n",
       "1006            5.0             1.0     1.0      3.0  ...           1.0   \n",
       "1007            2.0             1.0     2.0      2.0  ...           3.0   \n",
       "1008            4.0             5.0     5.0      3.0  ...           3.0   \n",
       "1009            4.0             1.0     1.0      3.0  ...           3.0   \n",
       "\n",
       "      Celebrities  Science and technology  Future goals  Sharing my past  \\\n",
       "0             1.0                     4.0           2.0              1.0   \n",
       "1             2.0                     3.0           4.0              4.0   \n",
       "2             1.0                     2.0           5.0              5.0   \n",
       "3             2.0                     3.0           3.0              5.0   \n",
       "4             3.0                     3.0           5.0              4.0   \n",
       "...           ...                     ...           ...              ...   \n",
       "1005          4.0                     3.0           2.0              1.0   \n",
       "1006          1.0                     5.0           5.0              4.0   \n",
       "1007          1.0                     3.0           4.0              5.0   \n",
       "1008          3.0                     5.0           3.0              3.0   \n",
       "1009          3.0                     3.0           4.0              1.0   \n",
       "\n",
       "      Dreams  Loneliness  Health  Mental wellbeing  Life struggles  \n",
       "0        4.0         3.0     1.0               3.0             1.0  \n",
       "1        3.0         2.0     4.0               4.0             1.0  \n",
       "2        1.0         5.0     2.0               4.0             4.0  \n",
       "3        3.0         5.0     1.0               5.0             3.0  \n",
       "4        3.0         3.0     3.0               2.0             2.0  \n",
       "...      ...         ...     ...               ...             ...  \n",
       "1005     3.0         4.0     4.0               3.0             4.0  \n",
       "1006     3.0         1.0     3.0               1.0             1.0  \n",
       "1007     3.0         4.0     3.0               2.0             5.0  \n",
       "1008     3.0         3.0     4.0               4.0             5.0  \n",
       "1009     3.0         3.0     5.0               2.0             2.0  \n",
       "\n",
       "[1010 rows x 26 columns]"
      ]
     },
     "execution_count": 23,
     "metadata": {},
     "output_type": "execute_result"
    }
   ],
   "source": [
    "# Imported the same dataset that has no NaNs, as was confused by the fact that in the Matching algorithm above\n",
    "# the dataframe was first resolved of missing values and then the dataframe that's worked further on uses just df\n",
    "# which is different from the one that had the missing values resolved.\n",
    "\n",
    "df_dv = pd.read_csv(\"TA_PreData_noNaNs.csv\", index_col=[0])\n",
    "\n",
    "df_dv"
   ]
  },
  {
   "cell_type": "code",
   "execution_count": 24,
   "metadata": {},
   "outputs": [],
   "source": [
    "# Defining a function to get the scores from data for a person = Name\n",
    "\n",
    "def get_scores(name):\n",
    "    person = df_dv[df_dv.Name == name]\n",
    "    assert len(person) == 1\n",
    "    scores = {k: person[k].iloc[0] for k in person.keys() if k != 'Name'}\n",
    "    return scores"
   ]
  },
  {
   "cell_type": "code",
   "execution_count": 25,
   "metadata": {},
   "outputs": [],
   "source": [
    "# Defining a function to get the top three shared interests for my match (name1) & me (name2) \n",
    "\n",
    "def get_matching_interests(name1, name2):\n",
    "    scores1 = get_scores(name1)\n",
    "    scores2 = get_scores(name2)\n",
    "    main_interests = [k for k, v in scores1.items() if v == 5.0]\n",
    "    shared_interests = [k for k in main_interests if scores2[k] in [4.0, 5.0]]\n",
    "    shared_interests.sort(key=lambda k: -scores2[k])\n",
    "    if len(shared_interests) >= 3:\n",
    "        return shared_interests[:3]\n",
    "    else:\n",
    "        main_interests = [k for k, v in scores1.items() if v == 4.0]\n",
    "        shared_interests4 = [k for k in main_interests if scores2[k] in [4.0, 5.0]]\n",
    "        shared_interests4.sort(key=lambda k: -scores2[k])\n",
    "        shared_interests.extend(shared_interests4)\n",
    "        return shared_interests[:3]"
   ]
  },
  {
   "cell_type": "code",
   "execution_count": 26,
   "metadata": {},
   "outputs": [
    {
     "data": {
      "text/plain": [
       "['Sharing my past', 'Music', 'Movies']"
      ]
     },
     "execution_count": 26,
     "metadata": {},
     "output_type": "execute_result"
    }
   ],
   "source": [
    "# This info will be used to create a graphic where we can see top 3 common interests for matches\n",
    "\n",
    "get_matching_interests('Lelia Williams', 'Nicola Allison')"
   ]
  },
  {
   "cell_type": "code",
   "execution_count": 27,
   "metadata": {},
   "outputs": [],
   "source": [
    "# Defining a function to see the top 10 matches: names, matching percentage and top three interests \n",
    "\n",
    "def get_matches_with_interests(name, n=10):\n",
    "    match_names, match_distance = find_matches(name=name, print_matches=False, n=n)\n",
    "    match_to_interests = {}\n",
    "    for match, distance in zip(match_names, match_distance):\n",
    "        shared = get_matching_interests(name, match)\n",
    "        match_score = (1.0 - distance) * 100\n",
    "        match_to_interests[match] = (match_score, shared)\n",
    "    return match_to_interests"
   ]
  },
  {
   "cell_type": "code",
   "execution_count": 28,
   "metadata": {},
   "outputs": [
    {
     "data": {
      "text/plain": [
       "{'Nicolas Quintana': (76.66039475875304,\n",
       "  ['Pets', 'Sharing my past', 'Foreign languages']),\n",
       " 'Stephen Horne': (75.88491943841065,\n",
       "  ['Foreign languages', 'Sharing my past', 'Pets']),\n",
       " 'Sharon Drew': (74.21173055484623,\n",
       "  ['Pets', 'Sharing my past', 'Life struggles']),\n",
       " 'Karen Maloney': (72.00924287021523,\n",
       "  ['Pets', 'Foreign languages', 'Sharing my past']),\n",
       " 'Alison Stock': (71.88739353600967,\n",
       "  ['Life struggles', 'Pets', 'Foreign languages']),\n",
       " 'Sharon Thomas': (71.62392062247068,\n",
       "  ['Pets', 'Foreign languages', 'Sharing my past']),\n",
       " 'John Armstrong': (71.20596496304448, ['Pets', 'Music', 'Movies']),\n",
       " 'Joanne Sharp': (70.2736977168359,\n",
       "  ['Foreign languages', 'Life struggles', 'Pets']),\n",
       " 'Theresa Ellery': (70.07056058193668,\n",
       "  ['Pets', 'Foreign languages', 'Life struggles']),\n",
       " 'Timothy Phillips': (69.99264847453823,\n",
       "  ['Sharing my past', 'Movies', 'Loneliness'])}"
      ]
     },
     "execution_count": 28,
     "metadata": {},
     "output_type": "execute_result"
    }
   ],
   "source": [
    "# Assigning the match info to the variable user_matches\n",
    "# and giving the name of the person we want to see matches for. \n",
    "\n",
    "username = 'Lelia Williams'\n",
    "\n",
    "user_matches = get_matches_with_interests(username)\n",
    "\n",
    "user_matches"
   ]
  },
  {
   "cell_type": "markdown",
   "metadata": {},
   "source": [
    "## Main user view : Top ten matched people and their matching scores\n",
    "\n",
    "Creating a visual for the top ten matched users, based on their similar interests. It dislays the names and the percentage of those that matched with the main user."
   ]
  },
  {
   "cell_type": "code",
   "execution_count": 29,
   "metadata": {
    "scrolled": true
   },
   "outputs": [
    {
     "data": {
      "text/plain": [
       "['Nicolas Quintana',\n",
       " 'Stephen Horne',\n",
       " 'Sharon Drew',\n",
       " 'Karen Maloney',\n",
       " 'Alison Stock',\n",
       " 'Sharon Thomas',\n",
       " 'John Armstrong',\n",
       " 'Joanne Sharp',\n",
       " 'Theresa Ellery',\n",
       " 'Timothy Phillips']"
      ]
     },
     "execution_count": 29,
     "metadata": {},
     "output_type": "execute_result"
    }
   ],
   "source": [
    "# Creating a list with the names of matched people \n",
    "\n",
    "names_matched_ppl = list(user_matches.keys())\n",
    "\n",
    "names_matched_ppl"
   ]
  },
  {
   "cell_type": "code",
   "execution_count": 30,
   "metadata": {
    "scrolled": true
   },
   "outputs": [
    {
     "data": {
      "text/plain": [
       "[76.66039475875304,\n",
       " 75.88491943841065,\n",
       " 74.21173055484623,\n",
       " 72.00924287021523,\n",
       " 71.88739353600967,\n",
       " 71.62392062247068,\n",
       " 71.20596496304448,\n",
       " 70.2736977168359,\n",
       " 70.07056058193668,\n",
       " 69.99264847453823]"
      ]
     },
     "execution_count": 30,
     "metadata": {},
     "output_type": "execute_result"
    }
   ],
   "source": [
    "# Creating a list with the matching scores of matched people\n",
    "\n",
    "scores_matched_ppl = []\n",
    "for item in user_matches.items():\n",
    "    scores_matched_ppl.append(item[1][0])\n",
    "    \n",
    "scores_matched_ppl"
   ]
  },
  {
   "cell_type": "code",
   "execution_count": 31,
   "metadata": {
    "scrolled": false
   },
   "outputs": [
    {
     "data": {
      "image/png": "[encoded data removed]",
      "text/plain": [
       "<Figure size 2160x1080 with 1 Axes>"
      ]
     },
     "metadata": {
      "needs_background": "light"
     },
     "output_type": "display_data"
    }
   ],
   "source": [
    "import seaborn as sns\n",
    "\n",
    "plt.style.use('seaborn-poster')\n",
    "plt.rcParams.update({'font.family': 'Open Sans', 'font.size': 18})\n",
    "\n",
    "df_dv_sns = pd.DataFrame(zip(names_matched_ppl, scores_matched_ppl), columns=[\"matched_names\", \"matched_scores\"])\n",
    "\n",
    "\n",
    "plt.figure(figsize=(30, 15))\n",
    "sns.barplot(x='matched_names', y=\"matched_scores\", data=df_dv_sns, color ='#194a05' )\n",
    "plt.ylim([60, 80])\n",
    "plt.title('\\n Top mathes for ' + username + '\\n', fontname='Montserrat', fontsize=22 )\n",
    "plt.xlabel('\\n Top Matches \\n', fontname='Montserrat', fontsize=20)\n",
    "plt.ylabel('\\n Match percentage\\n', fontname='Montserrat', fontsize=20)\n",
    "sns.despine()\n",
    "\n",
    "#plt.savefig('TechLabs_TogetherApart-TopMathes_LeliaWilliams-view.png', dpi=300, pad_inches=0.2)\n",
    "\n",
    "plt.show()\n"
   ]
  },
  {
   "cell_type": "markdown",
   "metadata": {},
   "source": [
    "### Notes\n",
    "\n",
    "We choose a constant colour (matching the one chosen by the UX and Web Design team) to have good contrast for the overlay elements. Based on the get_matching_interests function, that we created earlier, we will add round icons representing the top three interests for each matched person, on top of each bar of this plot. Doing it here will be a time consuming task.\n",
    "\n",
    "\n"
   ]
  },
  {
   "cell_type": "markdown",
   "metadata": {},
   "source": [
    "### Final view with top 3 shared interests represented through icons overlay. Stephen Horne is selected."
   ]
  },
  {
   "cell_type": "markdown",
   "metadata": {},
   "source": [
    "![Title](TechLabs_TogetherApart-TopMathes_LeliaWilliams-view-Final.png)"
   ]
  },
  {
   "cell_type": "markdown",
   "metadata": {},
   "source": [
    "## Main user view : Level of interest for the user and its match\n",
    "\n",
    "Creating a visual for the matched interests, when the main user is viewing someone else's profile. It dislays the top interests (scored more than 3 (+ equal to, for the second plot) in the linkert scale on the form, where 1=not interested and 5=very interested) shared by both parties."
   ]
  },
  {
   "cell_type": "markdown",
   "metadata": {},
   "source": [
    "### Getting the dataframe ready to plot the proposed data visualisation\n",
    "We create functions, filter and reconstruct a simple (melted) dataframe that contains the relevant information:\n",
    "\n",
    "* Get indexes for two names from the dataframe, and create a new dataframe with the information related the them. \n",
    "* Filter the dataframe to contain only top shared interests, for which both had given 4 or 5 on the form.\n",
    "* Melt the dataframe, so it contains: user names, interests and their scores.\n",
    "* Create a bar plot that shows a comparison between the levels of interests for each top category of interest (that we filtered earlier)."
   ]
  },
  {
   "cell_type": "markdown",
   "metadata": {},
   "source": [
    "##### Get Indexes for two names"
   ]
  },
  {
   "cell_type": "code",
   "execution_count": 32,
   "metadata": {},
   "outputs": [],
   "source": [
    "# Creating a function to extract the index of the main user and the matched user\n",
    "\n",
    "df = df_dv\n",
    "\n",
    "def getIndexes(dfObj, value):\n",
    " \n",
    "    listOfPos = list()\n",
    "\n",
    "    result = dfObj.isin([value])\n",
    "\n",
    "    seriesObj = result.any()\n",
    "    columnNames = list(seriesObj[seriesObj == True].index)\n",
    "   \n",
    "    for col in columnNames:\n",
    "        rows = list(result[col][result[col] == True].index)\n",
    "        for row in rows:\n",
    "            listOfPos.append((row, col))\n",
    "\n",
    "    return listOfPos"
   ]
  },
  {
   "cell_type": "code",
   "execution_count": 33,
   "metadata": {},
   "outputs": [
    {
     "name": "stdout",
     "output_type": "stream",
     "text": [
      "Index positions of Lelia Williams in Dataframe : \n",
      "Position  0  (Row index , Column Name) :  (1007, 'Name')\n"
     ]
    }
   ],
   "source": [
    "# Finding the indexes of rows\n",
    "\n",
    "username = 'Lelia Williams'\n",
    "matched_user = 'Stephen Horne'\n",
    "\n",
    "listOfPositions = getIndexes(df, username)\n",
    " \n",
    "print('Index positions of ' + username + ' in Dataframe : ')\n",
    "for i in range(len(listOfPositions)):\n",
    "    print('Position ', i, ' (Row index , Column Name) : ', listOfPositions[i])"
   ]
  },
  {
   "cell_type": "code",
   "execution_count": 34,
   "metadata": {
    "scrolled": true
   },
   "outputs": [
    {
     "name": "stdout",
     "output_type": "stream",
     "text": [
      "Index positions of Stephen Horne in Dataframe : \n",
      "Position  0  (Row index , Column Name) :  (934, 'Name')\n"
     ]
    }
   ],
   "source": [
    "# Fiding the index of the row = matched_user\n",
    "\n",
    "listOfPositions = getIndexes(df, matched_user)\n",
    " \n",
    "print('Index positions of ' + matched_user + ' in Dataframe : ')\n",
    "for i in range(len(listOfPositions)):\n",
    "    print('Position ', i, ' (Row index , Column Name) : ', listOfPositions[i])"
   ]
  },
  {
   "cell_type": "code",
   "execution_count": 35,
   "metadata": {
    "scrolled": true
   },
   "outputs": [
    {
     "data": {
      "text/html": [
       "<div>\n",
       "<style scoped>\n",
       "    .dataframe tbody tr th:only-of-type {\n",
       "        vertical-align: middle;\n",
       "    }\n",
       "\n",
       "    .dataframe tbody tr th {\n",
       "        vertical-align: top;\n",
       "    }\n",
       "\n",
       "    .dataframe thead th {\n",
       "        text-align: right;\n",
       "    }\n",
       "</style>\n",
       "<table border=\"1\" class=\"dataframe\">\n",
       "  <thead>\n",
       "    <tr style=\"text-align: right;\">\n",
       "      <th></th>\n",
       "      <th>Name</th>\n",
       "      <th>Dancing</th>\n",
       "      <th>Singing</th>\n",
       "      <th>Writing</th>\n",
       "      <th>Meditation</th>\n",
       "      <th>Playing games</th>\n",
       "      <th>Active sports</th>\n",
       "      <th>Being creative</th>\n",
       "      <th>Acting</th>\n",
       "      <th>Cooking</th>\n",
       "      <th>...</th>\n",
       "      <th>Daily events</th>\n",
       "      <th>Celebrities</th>\n",
       "      <th>Science and technology</th>\n",
       "      <th>Future goals</th>\n",
       "      <th>Sharing my past</th>\n",
       "      <th>Dreams</th>\n",
       "      <th>Loneliness</th>\n",
       "      <th>Health</th>\n",
       "      <th>Mental wellbeing</th>\n",
       "      <th>Life struggles</th>\n",
       "    </tr>\n",
       "  </thead>\n",
       "  <tbody>\n",
       "    <tr>\n",
       "      <th>1007</th>\n",
       "      <td>Lelia Williams</td>\n",
       "      <td>1.0</td>\n",
       "      <td>2.0</td>\n",
       "      <td>1.0</td>\n",
       "      <td>2.0</td>\n",
       "      <td>3.0</td>\n",
       "      <td>2.0</td>\n",
       "      <td>1.0</td>\n",
       "      <td>2.0</td>\n",
       "      <td>2.0</td>\n",
       "      <td>...</td>\n",
       "      <td>3.0</td>\n",
       "      <td>1.0</td>\n",
       "      <td>3.0</td>\n",
       "      <td>4.0</td>\n",
       "      <td>5.0</td>\n",
       "      <td>3.0</td>\n",
       "      <td>4.0</td>\n",
       "      <td>3.0</td>\n",
       "      <td>2.0</td>\n",
       "      <td>5.0</td>\n",
       "    </tr>\n",
       "    <tr>\n",
       "      <th>934</th>\n",
       "      <td>Stephen Horne</td>\n",
       "      <td>1.0</td>\n",
       "      <td>1.0</td>\n",
       "      <td>1.0</td>\n",
       "      <td>1.0</td>\n",
       "      <td>5.0</td>\n",
       "      <td>2.0</td>\n",
       "      <td>2.0</td>\n",
       "      <td>2.0</td>\n",
       "      <td>2.0</td>\n",
       "      <td>...</td>\n",
       "      <td>2.0</td>\n",
       "      <td>1.0</td>\n",
       "      <td>2.0</td>\n",
       "      <td>4.0</td>\n",
       "      <td>5.0</td>\n",
       "      <td>3.0</td>\n",
       "      <td>2.0</td>\n",
       "      <td>2.0</td>\n",
       "      <td>4.0</td>\n",
       "      <td>3.0</td>\n",
       "    </tr>\n",
       "  </tbody>\n",
       "</table>\n",
       "<p>2 rows × 26 columns</p>\n",
       "</div>"
      ],
      "text/plain": [
       "                Name  Dancing  Singing  Writing  Meditation  Playing games  \\\n",
       "1007  Lelia Williams      1.0      2.0      1.0         2.0            3.0   \n",
       "934    Stephen Horne      1.0      1.0      1.0         1.0            5.0   \n",
       "\n",
       "      Active sports  Being creative  Acting  Cooking  ...  Daily events  \\\n",
       "1007            2.0             1.0     2.0      2.0  ...           3.0   \n",
       "934             2.0             2.0     2.0      2.0  ...           2.0   \n",
       "\n",
       "      Celebrities  Science and technology  Future goals  Sharing my past  \\\n",
       "1007          1.0                     3.0           4.0              5.0   \n",
       "934           1.0                     2.0           4.0              5.0   \n",
       "\n",
       "      Dreams  Loneliness  Health  Mental wellbeing  Life struggles  \n",
       "1007     3.0         4.0     3.0               2.0             5.0  \n",
       "934      3.0         2.0     2.0               4.0             3.0  \n",
       "\n",
       "[2 rows x 26 columns]"
      ]
     },
     "execution_count": 35,
     "metadata": {},
     "output_type": "execute_result"
    }
   ],
   "source": [
    "# Slicing the rows that we need\n",
    "\n",
    "df_match_profile = df.iloc[[1007,934],:]\n",
    "\n",
    "df_match_profile"
   ]
  },
  {
   "cell_type": "code",
   "execution_count": 36,
   "metadata": {
    "scrolled": true
   },
   "outputs": [
    {
     "data": {
      "text/html": [
       "<div>\n",
       "<style scoped>\n",
       "    .dataframe tbody tr th:only-of-type {\n",
       "        vertical-align: middle;\n",
       "    }\n",
       "\n",
       "    .dataframe tbody tr th {\n",
       "        vertical-align: top;\n",
       "    }\n",
       "\n",
       "    .dataframe thead th {\n",
       "        text-align: right;\n",
       "    }\n",
       "</style>\n",
       "<table border=\"1\" class=\"dataframe\">\n",
       "  <thead>\n",
       "    <tr style=\"text-align: right;\">\n",
       "      <th></th>\n",
       "      <th>Name</th>\n",
       "      <th>Pets</th>\n",
       "      <th>Music</th>\n",
       "      <th>Movies</th>\n",
       "      <th>Reading</th>\n",
       "      <th>Foreign languages</th>\n",
       "      <th>Future goals</th>\n",
       "      <th>Sharing my past</th>\n",
       "    </tr>\n",
       "  </thead>\n",
       "  <tbody>\n",
       "    <tr>\n",
       "      <th>1007</th>\n",
       "      <td>Lelia Williams</td>\n",
       "      <td>5.0</td>\n",
       "      <td>4.0</td>\n",
       "      <td>4.0</td>\n",
       "      <td>4.0</td>\n",
       "      <td>5.0</td>\n",
       "      <td>4.0</td>\n",
       "      <td>5.0</td>\n",
       "    </tr>\n",
       "    <tr>\n",
       "      <th>934</th>\n",
       "      <td>Stephen Horne</td>\n",
       "      <td>4.0</td>\n",
       "      <td>5.0</td>\n",
       "      <td>5.0</td>\n",
       "      <td>4.0</td>\n",
       "      <td>5.0</td>\n",
       "      <td>4.0</td>\n",
       "      <td>5.0</td>\n",
       "    </tr>\n",
       "  </tbody>\n",
       "</table>\n",
       "</div>"
      ],
      "text/plain": [
       "                Name  Pets  Music  Movies  Reading  Foreign languages  \\\n",
       "1007  Lelia Williams   5.0    4.0     4.0      4.0                5.0   \n",
       "934    Stephen Horne   4.0    5.0     5.0      4.0                5.0   \n",
       "\n",
       "      Future goals  Sharing my past  \n",
       "1007           4.0              5.0  \n",
       "934            4.0              5.0  "
      ]
     },
     "execution_count": 36,
     "metadata": {},
     "output_type": "execute_result"
    }
   ],
   "source": [
    "# Filtering to have a dataframe with the top interests for both\n",
    "\n",
    "def is_shared(k):\n",
    "    col = df_match_profile[k]\n",
    "    assert len(col) == 2\n",
    "    return (col.iloc[0] > 3 and col.iloc[1] > 3)\n",
    "\n",
    "shared_interests = [k for k in df_match_profile.keys() if k == 'Name' or is_shared(k)]\n",
    "df_match_profile_shared = df_match_profile[shared_interests]\n",
    "df_match_profile_shared\n"
   ]
  },
  {
   "cell_type": "code",
   "execution_count": 37,
   "metadata": {
    "scrolled": false
   },
   "outputs": [
    {
     "data": {
      "text/html": [
       "<div>\n",
       "<style scoped>\n",
       "    .dataframe tbody tr th:only-of-type {\n",
       "        vertical-align: middle;\n",
       "    }\n",
       "\n",
       "    .dataframe tbody tr th {\n",
       "        vertical-align: top;\n",
       "    }\n",
       "\n",
       "    .dataframe thead th {\n",
       "        text-align: right;\n",
       "    }\n",
       "</style>\n",
       "<table border=\"1\" class=\"dataframe\">\n",
       "  <thead>\n",
       "    <tr style=\"text-align: right;\">\n",
       "      <th></th>\n",
       "      <th>Name</th>\n",
       "      <th>int_name</th>\n",
       "      <th>int_score</th>\n",
       "    </tr>\n",
       "  </thead>\n",
       "  <tbody>\n",
       "    <tr>\n",
       "      <th>0</th>\n",
       "      <td>Lelia Williams</td>\n",
       "      <td>Pets</td>\n",
       "      <td>5.0</td>\n",
       "    </tr>\n",
       "    <tr>\n",
       "      <th>1</th>\n",
       "      <td>Stephen Horne</td>\n",
       "      <td>Pets</td>\n",
       "      <td>4.0</td>\n",
       "    </tr>\n",
       "    <tr>\n",
       "      <th>2</th>\n",
       "      <td>Lelia Williams</td>\n",
       "      <td>Music</td>\n",
       "      <td>4.0</td>\n",
       "    </tr>\n",
       "    <tr>\n",
       "      <th>3</th>\n",
       "      <td>Stephen Horne</td>\n",
       "      <td>Music</td>\n",
       "      <td>5.0</td>\n",
       "    </tr>\n",
       "    <tr>\n",
       "      <th>4</th>\n",
       "      <td>Lelia Williams</td>\n",
       "      <td>Movies</td>\n",
       "      <td>4.0</td>\n",
       "    </tr>\n",
       "    <tr>\n",
       "      <th>5</th>\n",
       "      <td>Stephen Horne</td>\n",
       "      <td>Movies</td>\n",
       "      <td>5.0</td>\n",
       "    </tr>\n",
       "    <tr>\n",
       "      <th>6</th>\n",
       "      <td>Lelia Williams</td>\n",
       "      <td>Reading</td>\n",
       "      <td>4.0</td>\n",
       "    </tr>\n",
       "    <tr>\n",
       "      <th>7</th>\n",
       "      <td>Stephen Horne</td>\n",
       "      <td>Reading</td>\n",
       "      <td>4.0</td>\n",
       "    </tr>\n",
       "    <tr>\n",
       "      <th>8</th>\n",
       "      <td>Lelia Williams</td>\n",
       "      <td>Foreign languages</td>\n",
       "      <td>5.0</td>\n",
       "    </tr>\n",
       "    <tr>\n",
       "      <th>9</th>\n",
       "      <td>Stephen Horne</td>\n",
       "      <td>Foreign languages</td>\n",
       "      <td>5.0</td>\n",
       "    </tr>\n",
       "    <tr>\n",
       "      <th>10</th>\n",
       "      <td>Lelia Williams</td>\n",
       "      <td>Future goals</td>\n",
       "      <td>4.0</td>\n",
       "    </tr>\n",
       "    <tr>\n",
       "      <th>11</th>\n",
       "      <td>Stephen Horne</td>\n",
       "      <td>Future goals</td>\n",
       "      <td>4.0</td>\n",
       "    </tr>\n",
       "    <tr>\n",
       "      <th>12</th>\n",
       "      <td>Lelia Williams</td>\n",
       "      <td>Sharing my past</td>\n",
       "      <td>5.0</td>\n",
       "    </tr>\n",
       "    <tr>\n",
       "      <th>13</th>\n",
       "      <td>Stephen Horne</td>\n",
       "      <td>Sharing my past</td>\n",
       "      <td>5.0</td>\n",
       "    </tr>\n",
       "  </tbody>\n",
       "</table>\n",
       "</div>"
      ],
      "text/plain": [
       "              Name           int_name  int_score\n",
       "0   Lelia Williams               Pets        5.0\n",
       "1    Stephen Horne               Pets        4.0\n",
       "2   Lelia Williams              Music        4.0\n",
       "3    Stephen Horne              Music        5.0\n",
       "4   Lelia Williams             Movies        4.0\n",
       "5    Stephen Horne             Movies        5.0\n",
       "6   Lelia Williams            Reading        4.0\n",
       "7    Stephen Horne            Reading        4.0\n",
       "8   Lelia Williams  Foreign languages        5.0\n",
       "9    Stephen Horne  Foreign languages        5.0\n",
       "10  Lelia Williams       Future goals        4.0\n",
       "11   Stephen Horne       Future goals        4.0\n",
       "12  Lelia Williams    Sharing my past        5.0\n",
       "13   Stephen Horne    Sharing my past        5.0"
      ]
     },
     "execution_count": 37,
     "metadata": {},
     "output_type": "execute_result"
    }
   ],
   "source": [
    "# Melting the dataframe to get it ready for plotting\n",
    "\n",
    "df_top_int = df_match_profile_shared.melt(id_vars=['Name'], var_name='int_name', value_name='int_score')\n",
    "\n",
    "df_top_int"
   ]
  },
  {
   "cell_type": "code",
   "execution_count": 38,
   "metadata": {
    "scrolled": false
   },
   "outputs": [
    {
     "data": {
      "image/png": "[encoded data removed]",
      "text/plain": [
       "<Figure size 2160x1080 with 1 Axes>"
      ]
     },
     "metadata": {
      "needs_background": "light"
     },
     "output_type": "display_data"
    }
   ],
   "source": [
    "# Creating the plot with nested bars corresponding to top shared interests\n",
    "\n",
    "plt.style.use('seaborn-poster')\n",
    "plt.rcParams.update({'font.family': 'Open Sans', 'font.size': 18})\n",
    "color = sns.color_palette(\"Greens_r\", 2)\n",
    "\n",
    "plt.figure(figsize=(30, 15))\n",
    "sns.barplot(x='int_name', y='int_score', hue='Name', data=df_top_int, palette=color)\n",
    "plt.title('\\n Your top shared interests with ' + matched_user + '\\n', fontname='Montserrat', fontsize=22 )\n",
    "plt.xlabel('\\n Activities and interesting subjects \\n', fontname='Montserrat', fontsize=20)\n",
    "plt.ylabel('\\n Linkert scores \\n', fontname='Montserrat', fontsize=20)\n",
    "\n",
    "#plt.savefig('TechLabs_TogetherApart-TopInterests-nested_LeliaWilliams-view-StephenHorne-match.png', dpi=300, pad_inches=0.2)\n",
    "\n",
    "plt.show()"
   ]
  },
  {
   "cell_type": "markdown",
   "metadata": {},
   "source": [
    "### Creating an alternative, wider view of the shared interests\n",
    "Here, we change the filtering of the dataset (for shared interests that both had scored as 3, 4 or 5), and plotting features to suit the second type of bar plot."
   ]
  },
  {
   "cell_type": "code",
   "execution_count": 39,
   "metadata": {},
   "outputs": [],
   "source": [
    "# Filtering to have a wider dataframe with the top interests for both\n",
    "\n",
    "def is_shared3(k):\n",
    "    col = df_match_profile[k]\n",
    "    assert len(col) == 2\n",
    "    return (col.iloc[0] >= 3 and col.iloc[1] >= 3)\n",
    "\n",
    "shared_interests3 = [k for k in df_match_profile.keys() if k == 'Name' or is_shared3(k)]\n",
    "df_match_profile_shared3 = df_match_profile[shared_interests3]\n",
    "df_match_profile_shared3\n",
    "\n",
    "df_top_int3 = df_match_profile_shared3.melt(id_vars=['Name'], var_name='int_name', value_name='int_score')"
   ]
  },
  {
   "cell_type": "code",
   "execution_count": 40,
   "metadata": {
    "scrolled": false
   },
   "outputs": [
    {
     "data": {
      "image/png": "[encoded data removed]",
      "text/plain": [
       "<Figure size 2160x1080 with 1 Axes>"
      ]
     },
     "metadata": {
      "needs_background": "light"
     },
     "output_type": "display_data"
    }
   ],
   "source": [
    "# Creating the plot with nested bars corresponding to top shared interests\n",
    "\n",
    "plt.style.use('seaborn-poster')\n",
    "plt.rcParams.update({'font.family': 'Open Sans', 'font.size': 18})\n",
    "\n",
    "height = df_match_profile_shared3.mean()\n",
    "unique_heights = sorted(df_match_profile_shared3.mean().unique())\n",
    "#unique_heights.reverse()\n",
    "color = sns.color_palette(\"Greens\", len(unique_heights))\n",
    "colors = []\n",
    "for h in height.values:\n",
    "    rank = unique_heights.index(h)\n",
    "    colors.append(color[rank])\n",
    "colors\n",
    "\n",
    "f, ax = plt.subplots(figsize=(30, 15))\n",
    "sns.barplot(x='int_name', y='int_score', data=df_top_int3, palette=colors, ax=ax)\n",
    "ax.set_title('\\n Your top shared interests with ' + matched_user + '\\n', fontname='Montserrat', fontsize=22 )\n",
    "ax.set_xlabel('\\n Activities and interesting subjects \\n', fontname='Montserrat', fontsize=20)\n",
    "ax.set_ylabel('\\n Linkert scores \\n', fontname='Montserrat', fontsize=20)\n",
    "sns.despine()\n",
    "\n",
    "#plt.savefig('TechLabs_TogetherApart-TopInterests-estimate_LeliaWilliams-view-StephenHorne-match.png', dpi=300, pad_inches=0.2)\n",
    "\n",
    "plt.show()\n",
    " "
   ]
  },
  {
   "cell_type": "markdown",
   "metadata": {},
   "source": [
    "#### Notes\n",
    "\n",
    "We could add some mock data such as dates to form an overview of the flux of users that have registered for Together Apart, for the developers team, but we think what we have achieved so far is enough for the purpose of TechLabs challenge. "
   ]
  }
 ],
 "metadata": {
  "kernelspec": {
   "display_name": "Python 3",
   "language": "python",
   "name": "python3"
  },
  "language_info": {
   "codemirror_mode": {
    "name": "ipython",
    "version": 3
   },
   "file_extension": ".py",
   "mimetype": "text/x-python",
   "name": "python",
   "nbconvert_exporter": "python",
   "pygments_lexer": "ipython3",
   "version": "3.7.6"
  }
 },
 "nbformat": 4,
 "nbformat_minor": 2
}
